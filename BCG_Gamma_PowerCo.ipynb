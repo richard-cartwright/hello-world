{
  "nbformat": 4,
  "nbformat_minor": 0,
  "metadata": {
    "colab": {
      "name": "BCG Gamma PowerCo.ipynb",
      "version": "0.3.2",
      "provenance": [],
      "collapsed_sections": [],
      "include_colab_link": true
    },
    "kernelspec": {
      "name": "python3",
      "display_name": "Python 3"
    }
  },
  "cells": [
    {
      "cell_type": "markdown",
      "metadata": {
        "id": "view-in-github",
        "colab_type": "text"
      },
      "source": [
        "[View in Colaboratory](https://colab.research.google.com/github/richard-cartwright/personal/blob/master/BCG_Gamma_PowerCo.ipynb)"
      ]
    },
    {
      "metadata": {
        "id": "uzAesX5stqL_",
        "colab_type": "text"
      },
      "cell_type": "markdown",
      "source": [
        "# PACKAGES"
      ]
    },
    {
      "metadata": {
        "id": "C5Sz2yscnn4F",
        "colab_type": "text"
      },
      "cell_type": "markdown",
      "source": [
        "## Installs"
      ]
    },
    {
      "metadata": {
        "id": "kZkzezqanfoZ",
        "colab_type": "code",
        "colab": {
          "base_uri": "https://localhost:8080/",
          "height": 230
        },
        "outputId": "c13c2ba6-8c62-4af6-c718-7156c3297ece"
      },
      "cell_type": "code",
      "source": [
        "!pip install scikit-plot"
      ],
      "execution_count": 213,
      "outputs": [
        {
          "output_type": "stream",
          "text": [
            "Requirement already satisfied: scikit-plot in /usr/local/lib/python3.6/dist-packages (0.3.7)\n",
            "Requirement already satisfied: scipy>=0.9 in /usr/local/lib/python3.6/dist-packages (from scikit-plot) (0.19.1)\n",
            "Requirement already satisfied: joblib>=0.10 in /usr/local/lib/python3.6/dist-packages (from scikit-plot) (0.12.5)\n",
            "Requirement already satisfied: scikit-learn>=0.18 in /usr/local/lib/python3.6/dist-packages (from scikit-plot) (0.19.2)\n",
            "Requirement already satisfied: matplotlib>=1.4.0 in /usr/local/lib/python3.6/dist-packages (from scikit-plot) (2.1.2)\n",
            "Requirement already satisfied: numpy>=1.8.2 in /usr/local/lib/python3.6/dist-packages (from scipy>=0.9->scikit-plot) (1.14.6)\n",
            "Requirement already satisfied: six>=1.10 in /usr/local/lib/python3.6/dist-packages (from matplotlib>=1.4.0->scikit-plot) (1.11.0)\n",
            "Requirement already satisfied: python-dateutil>=2.1 in /usr/local/lib/python3.6/dist-packages (from matplotlib>=1.4.0->scikit-plot) (2.5.3)\n",
            "Requirement already satisfied: pyparsing!=2.0.4,!=2.1.2,!=2.1.6,>=2.0.1 in /usr/local/lib/python3.6/dist-packages (from matplotlib>=1.4.0->scikit-plot) (2.2.1)\n",
            "Requirement already satisfied: pytz in /usr/local/lib/python3.6/dist-packages (from matplotlib>=1.4.0->scikit-plot) (2018.5)\n",
            "Requirement already satisfied: cycler>=0.10 in /usr/local/lib/python3.6/dist-packages (from matplotlib>=1.4.0->scikit-plot) (0.10.0)\n"
          ],
          "name": "stdout"
        }
      ]
    },
    {
      "metadata": {
        "id": "2eUiNT8Anqay",
        "colab_type": "text"
      },
      "cell_type": "markdown",
      "source": [
        "## Imports"
      ]
    },
    {
      "metadata": {
        "id": "mQmlSdyU4PHd",
        "colab_type": "code",
        "colab": {}
      },
      "cell_type": "code",
      "source": [
        "# Basic imports, including ML libraries\n",
        "\n",
        "import pandas as pd\n",
        "import numpy as np\n",
        "import matplotlib.pyplot as plt\n",
        "import seaborn as sns\n",
        "\n",
        "import pprint\n",
        "%matplotlib inline\n",
        "\n",
        "# Setting plotting styles\n",
        "plt.style.use('fivethirtyeight')\n",
        "sns.set_style('white')\n",
        "\n",
        "# Displays all cell's output, not just last output\n",
        "from IPython.core.interactiveshell import InteractiveShell\n",
        "InteractiveShell.ast_node_interactivity = \"all\"\n",
        "\n",
        "# Sklearn\n",
        "import scikitplot as skplt\n",
        "\n",
        "from sklearn.model_selection import train_test_split\n",
        "from sklearn.pipeline import Pipeline\n",
        "from sklearn.preprocessing import StandardScaler,PolynomialFeatures\n",
        "from sklearn.decomposition import PCA\n",
        "\n",
        "from sklearn.ensemble import RandomForestClassifier\n",
        "from sklearn.linear_model import LogisticRegression\n",
        "from sklearn.metrics import roc_curve, roc_auc_score, confusion_matrix, recall_score\n",
        "from sklearn.neighbors import KNeighborsClassifier\n",
        "\n",
        "\n",
        "# Tensorflow & Keras\n",
        "# import tensorflow as tf\n",
        "# from tensorflow import keras\n",
        "# from tensorflow.keras.models import Sequential\n",
        "# from tensorflow.keras.layers import Dense"
      ],
      "execution_count": 0,
      "outputs": []
    },
    {
      "metadata": {
        "id": "c1lPEO8ztvZk",
        "colab_type": "text"
      },
      "cell_type": "markdown",
      "source": [
        "# ENVIRON SET-UP"
      ]
    },
    {
      "metadata": {
        "id": "qdFhppw3IARx",
        "colab_type": "code",
        "colab": {
          "base_uri": "https://localhost:8080/",
          "height": 34
        },
        "outputId": "6746b4ac-3cce-4d9c-f1a4-fbfa186458af"
      },
      "cell_type": "code",
      "source": [
        "# Add GDrive to Colab environment\n",
        "\n",
        "from google.colab import drive\n",
        "drive.mount('/content/drive')"
      ],
      "execution_count": 215,
      "outputs": [
        {
          "output_type": "stream",
          "text": [
            "Mounted at /content/drive\n"
          ],
          "name": "stdout"
        }
      ]
    },
    {
      "metadata": {
        "id": "2RvFMbuTJBcJ",
        "colab_type": "code",
        "colab": {}
      },
      "cell_type": "code",
      "source": [
        "# Extract data\n",
        "\n",
        "# Create path for data\n",
        "path = '/content/drive/My Drive/Colab Notebooks/Personal/BCG Gamma/ml_case_data'\n",
        "\n",
        "# Training data\n",
        "training_data = pd.read_csv(path+'/training_data.csv', \n",
        "                        index_col='id', \n",
        "                        parse_dates=['date_activ',\n",
        "                                     'date_end', \n",
        "                                     'date_first_activ',\n",
        "                                     'date_modif_prod', \n",
        "                                     'date_renewal'])\n",
        "training_hist_data = pd.read_csv(path+'/training_hist_data.csv',\n",
        "                             index_col=['id','price_date'], \n",
        "                             parse_dates=['price_date'])\n",
        "training_output = pd.read_csv(path+'/training_output.csv', \n",
        "                              index_col='id')\n",
        "\n",
        "# Submission data\n",
        "test_data = pd.read_csv(path+'/test_data.csv', \n",
        "                        index_col='id', \n",
        "                        parse_dates=['date_activ',\n",
        "                                     'date_end', \n",
        "                                     'date_first_activ',\n",
        "                                     'date_modif_prod', \n",
        "                                     'date_renewal'])\n",
        "test_hist_data = pd.read_csv(path+'/test_hist_data.csv',\n",
        "                             index_col=['id','price_date'], \n",
        "                             parse_dates=['price_date'])"
      ],
      "execution_count": 0,
      "outputs": []
    },
    {
      "metadata": {
        "id": "IGR4Nh5z1gWs",
        "colab_type": "code",
        "colab": {
          "base_uri": "https://localhost:8080/",
          "height": 52
        },
        "outputId": "37780b06-3172-4aa7-914b-b776ea48ba02"
      },
      "cell_type": "code",
      "source": [
        "ls '/content/drive/My Drive/Colab Notebooks/Personal/BCG Gamma/ml_case_data'"
      ],
      "execution_count": 257,
      "outputs": [
        {
          "output_type": "stream",
          "text": [
            "test_data.csv       test_output_template.csv  training_hist_data.csv\n",
            "test_hist_data.csv  training_data.csv         training_output.csv\n"
          ],
          "name": "stdout"
        }
      ]
    },
    {
      "metadata": {
        "id": "PW7H2Uy_ZS8v",
        "colab_type": "text"
      },
      "cell_type": "markdown",
      "source": [
        "# DATA CLEANING & FEATURE ENGINEERING"
      ]
    },
    {
      "metadata": {
        "id": "9sSlDR_npiaV",
        "colab_type": "text"
      },
      "cell_type": "markdown",
      "source": [
        "## MERGE TRAIN & TEST"
      ]
    },
    {
      "metadata": {
        "id": "Kpj25Nt_phZc",
        "colab_type": "code",
        "colab": {}
      },
      "cell_type": "code",
      "source": [
        "training_data['train_or_test'] = 'train'\n",
        "# training_hist_data['train_or_test'] = 'train'\n",
        "\n",
        "test_data['train_or_test'] = 'test'\n",
        "# test_hist_data['train_or_test'] = 'test'"
      ],
      "execution_count": 0,
      "outputs": []
    },
    {
      "metadata": {
        "id": "2M5HwhR0qejT",
        "colab_type": "code",
        "colab": {}
      },
      "cell_type": "code",
      "source": [
        "whole_data = pd.concat([training_data,test_data])\n",
        "whole_hist_data = pd.concat([training_hist_data,test_hist_data])"
      ],
      "execution_count": 0,
      "outputs": []
    },
    {
      "metadata": {
        "id": "x7dtJQaZt2jY",
        "colab_type": "text"
      },
      "cell_type": "markdown",
      "source": [
        "## MODEL DATA"
      ]
    },
    {
      "metadata": {
        "id": "WK4UhUwT80vL",
        "colab_type": "code",
        "colab": {}
      },
      "cell_type": "code",
      "source": [
        "# Price data\n",
        "\n",
        "missing_prices = whole_hist_data.isnull().groupby(level=0).mean()\n",
        "missing_prices.columns = ['missing_'+col for col in missing_prices.columns]\n",
        "\n",
        "mean_prices = whole_hist_data.groupby(level=0).mean()\n",
        "mean_prices.columns = ['mean_'+col for col in mean_prices.columns]\n",
        "\n",
        "range_prices = whole_hist_data.groupby(level=0).max() - whole_hist_data.groupby(level=0).min()\n",
        "range_prices.columns = ['range_'+col for col in range_prices.columns]\n",
        "\n",
        "change_prices = whole_hist_data.groupby(level=0).last() - whole_hist_data.groupby(level=0).first()\n",
        "change_prices.columns = ['change_'+col for col in change_prices.columns]\n",
        "\n",
        "whole_prices = pd.concat([missing_prices,mean_prices,range_prices,change_prices], axis=1)\n",
        "\n",
        "# whole chunks of NaNs therefore fill after aggregation\n",
        "whole_prices = whole_prices.fillna(whole_prices.median())"
      ],
      "execution_count": 0,
      "outputs": []
    },
    {
      "metadata": {
        "id": "r1kPa9Fh2elT",
        "colab_type": "code",
        "colab": {
          "base_uri": "https://localhost:8080/",
          "height": 1110
        },
        "outputId": "7a52d848-a165-45f2-f6c9-bbfb834701a5"
      },
      "cell_type": "code",
      "source": [
        "model_data = pd.concat([whole_data, whole_prices], axis=1).sort_index()\n",
        "\n",
        "target = training_output['churn'].sort_index()\n",
        "\n",
        "model_data.info()\n",
        "\n",
        "# Zero data points for 'campaign_disc_ele', therefore drop\n",
        "model_data.drop('campaign_disc_ele', axis=1, inplace=True)"
      ],
      "execution_count": 220,
      "outputs": [
        {
          "output_type": "stream",
          "text": [
            "<class 'pandas.core.frame.DataFrame'>\n",
            "Index: 20120 entries, 0002203ffbb812588b632b9e628cc38d to ffff7fa066f1fb305ae285bb03bf325a\n",
            "Data columns (total 56 columns):\n",
            "activity_new                8221 non-null object\n",
            "campaign_disc_ele           0 non-null float64\n",
            "channel_sales               14846 non-null object\n",
            "cons_12m                    20120 non-null int64\n",
            "cons_gas_12m                20120 non-null int64\n",
            "cons_last_month             20120 non-null int64\n",
            "date_activ                  20120 non-null datetime64[ns]\n",
            "date_end                    20118 non-null datetime64[ns]\n",
            "date_first_activ            4385 non-null datetime64[ns]\n",
            "date_modif_prod             19918 non-null datetime64[ns]\n",
            "date_renewal                20076 non-null datetime64[ns]\n",
            "forecast_base_bill_ele      4385 non-null float64\n",
            "forecast_base_bill_year     4385 non-null float64\n",
            "forecast_bill_12m           4385 non-null float64\n",
            "forecast_cons               4385 non-null float64\n",
            "forecast_cons_12m           20120 non-null float64\n",
            "forecast_cons_year          20120 non-null int64\n",
            "forecast_discount_energy    19970 non-null float64\n",
            "forecast_meter_rent_12m     20120 non-null float64\n",
            "forecast_price_energy_p1    19970 non-null float64\n",
            "forecast_price_energy_p2    19970 non-null float64\n",
            "forecast_price_pow_p1       19970 non-null float64\n",
            "has_gas                     20120 non-null object\n",
            "imp_cons                    20120 non-null float64\n",
            "margin_gross_pow_ele        20105 non-null float64\n",
            "margin_net_pow_ele          20105 non-null float64\n",
            "nb_prod_act                 20120 non-null int64\n",
            "net_margin                  20102 non-null float64\n",
            "num_years_antig             20120 non-null int64\n",
            "origin_up                   20006 non-null object\n",
            "pow_max                     20116 non-null float64\n",
            "train_or_test               20120 non-null object\n",
            "missing_price_p1_var        20120 non-null float64\n",
            "missing_price_p2_var        20120 non-null float64\n",
            "missing_price_p3_var        20120 non-null float64\n",
            "missing_price_p1_fix        20120 non-null float64\n",
            "missing_price_p2_fix        20120 non-null float64\n",
            "missing_price_p3_fix        20120 non-null float64\n",
            "mean_price_p1_var           20120 non-null float64\n",
            "mean_price_p2_var           20120 non-null float64\n",
            "mean_price_p3_var           20120 non-null float64\n",
            "mean_price_p1_fix           20120 non-null float64\n",
            "mean_price_p2_fix           20120 non-null float64\n",
            "mean_price_p3_fix           20120 non-null float64\n",
            "range_price_p1_var          20120 non-null float64\n",
            "range_price_p2_var          20120 non-null float64\n",
            "range_price_p3_var          20120 non-null float64\n",
            "range_price_p1_fix          20120 non-null float64\n",
            "range_price_p2_fix          20120 non-null float64\n",
            "range_price_p3_fix          20120 non-null float64\n",
            "change_price_p1_var         20120 non-null float64\n",
            "change_price_p2_var         20120 non-null float64\n",
            "change_price_p3_var         20120 non-null float64\n",
            "change_price_p1_fix         20120 non-null float64\n",
            "change_price_p2_fix         20120 non-null float64\n",
            "change_price_p3_fix         20120 non-null float64\n",
            "dtypes: datetime64[ns](5), float64(40), int64(6), object(5)\n",
            "memory usage: 8.7+ MB\n"
          ],
          "name": "stdout"
        }
      ]
    },
    {
      "metadata": {
        "id": "-JsZMGzltTCA",
        "colab_type": "text"
      },
      "cell_type": "markdown",
      "source": [
        "## DATE VARS"
      ]
    },
    {
      "metadata": {
        "id": "RGEas-Xgqj2V",
        "colab_type": "code",
        "colab": {
          "base_uri": "https://localhost:8080/",
          "height": 707
        },
        "outputId": "9d070554-d674-4d8c-e536-c359760fcf63"
      },
      "cell_type": "code",
      "source": [
        "# date columns\n",
        "\n",
        "date_cols = [col for col in model_data.columns if col[:4]=='date']\n",
        "\n",
        "model_data[date_cols].info()\n",
        "model_data[date_cols].head(10)"
      ],
      "execution_count": 221,
      "outputs": [
        {
          "output_type": "stream",
          "text": [
            "<class 'pandas.core.frame.DataFrame'>\n",
            "Index: 20120 entries, 0002203ffbb812588b632b9e628cc38d to ffff7fa066f1fb305ae285bb03bf325a\n",
            "Data columns (total 5 columns):\n",
            "date_activ          20120 non-null datetime64[ns]\n",
            "date_end            20118 non-null datetime64[ns]\n",
            "date_first_activ    4385 non-null datetime64[ns]\n",
            "date_modif_prod     19918 non-null datetime64[ns]\n",
            "date_renewal        20076 non-null datetime64[ns]\n",
            "dtypes: datetime64[ns](5)\n",
            "memory usage: 943.1+ KB\n"
          ],
          "name": "stdout"
        },
        {
          "output_type": "execute_result",
          "data": {
            "text/html": [
              "<div>\n",
              "<style scoped>\n",
              "    .dataframe tbody tr th:only-of-type {\n",
              "        vertical-align: middle;\n",
              "    }\n",
              "\n",
              "    .dataframe tbody tr th {\n",
              "        vertical-align: top;\n",
              "    }\n",
              "\n",
              "    .dataframe thead th {\n",
              "        text-align: right;\n",
              "    }\n",
              "</style>\n",
              "<table border=\"1\" class=\"dataframe\">\n",
              "  <thead>\n",
              "    <tr style=\"text-align: right;\">\n",
              "      <th></th>\n",
              "      <th>date_activ</th>\n",
              "      <th>date_end</th>\n",
              "      <th>date_first_activ</th>\n",
              "      <th>date_modif_prod</th>\n",
              "      <th>date_renewal</th>\n",
              "    </tr>\n",
              "  </thead>\n",
              "  <tbody>\n",
              "    <tr>\n",
              "      <th>0002203ffbb812588b632b9e628cc38d</th>\n",
              "      <td>2010-01-19</td>\n",
              "      <td>2016-02-21</td>\n",
              "      <td>NaT</td>\n",
              "      <td>2010-01-19</td>\n",
              "      <td>2015-02-25</td>\n",
              "    </tr>\n",
              "    <tr>\n",
              "      <th>000381698491fec6983d55828fe5ada6</th>\n",
              "      <td>2010-06-25</td>\n",
              "      <td>2016-08-30</td>\n",
              "      <td>2010-06-25</td>\n",
              "      <td>2013-08-30</td>\n",
              "      <td>2015-08-31</td>\n",
              "    </tr>\n",
              "    <tr>\n",
              "      <th>0004351ebdd665e6ee664792efc4fd13</th>\n",
              "      <td>2009-08-06</td>\n",
              "      <td>2016-06-21</td>\n",
              "      <td>NaT</td>\n",
              "      <td>2013-06-21</td>\n",
              "      <td>2015-06-23</td>\n",
              "    </tr>\n",
              "    <tr>\n",
              "      <th>000861c9aa2a0784b8d83f8b5b95d010</th>\n",
              "      <td>2012-05-22</td>\n",
              "      <td>2016-05-22</td>\n",
              "      <td>2012-05-22</td>\n",
              "      <td>2013-11-06</td>\n",
              "      <td>2015-06-23</td>\n",
              "    </tr>\n",
              "    <tr>\n",
              "      <th>0010bcc39e42b3c2131ed2ce55246e3c</th>\n",
              "      <td>2013-02-25</td>\n",
              "      <td>2016-05-05</td>\n",
              "      <td>NaT</td>\n",
              "      <td>2015-05-05</td>\n",
              "      <td>2015-02-26</td>\n",
              "    </tr>\n",
              "    <tr>\n",
              "      <th>0010ee3855fdea87602a5b7aba8e42de</th>\n",
              "      <td>2010-06-01</td>\n",
              "      <td>2016-06-01</td>\n",
              "      <td>NaT</td>\n",
              "      <td>2010-06-01</td>\n",
              "      <td>2015-06-08</td>\n",
              "    </tr>\n",
              "    <tr>\n",
              "      <th>00114d74e963e47177db89bc70108537</th>\n",
              "      <td>2010-03-02</td>\n",
              "      <td>2016-03-02</td>\n",
              "      <td>NaT</td>\n",
              "      <td>2010-03-02</td>\n",
              "      <td>2015-03-09</td>\n",
              "    </tr>\n",
              "    <tr>\n",
              "      <th>00126c87cf78d7604278f0a9adeb689e</th>\n",
              "      <td>2012-05-01</td>\n",
              "      <td>2016-05-01</td>\n",
              "      <td>NaT</td>\n",
              "      <td>2012-05-01</td>\n",
              "      <td>2015-05-02</td>\n",
              "    </tr>\n",
              "    <tr>\n",
              "      <th>0013f326a839a2f6ad87a1859952d227</th>\n",
              "      <td>2013-02-22</td>\n",
              "      <td>2016-02-22</td>\n",
              "      <td>2013-02-22</td>\n",
              "      <td>2014-10-07</td>\n",
              "      <td>2015-02-26</td>\n",
              "    </tr>\n",
              "    <tr>\n",
              "      <th>00184e957277eeef733a7b563fdabd06</th>\n",
              "      <td>2013-02-04</td>\n",
              "      <td>2016-02-04</td>\n",
              "      <td>NaT</td>\n",
              "      <td>2013-02-04</td>\n",
              "      <td>2015-02-05</td>\n",
              "    </tr>\n",
              "  </tbody>\n",
              "</table>\n",
              "</div>"
            ],
            "text/plain": [
              "                                 date_activ   date_end date_first_activ  \\\n",
              "0002203ffbb812588b632b9e628cc38d 2010-01-19 2016-02-21              NaT   \n",
              "000381698491fec6983d55828fe5ada6 2010-06-25 2016-08-30       2010-06-25   \n",
              "0004351ebdd665e6ee664792efc4fd13 2009-08-06 2016-06-21              NaT   \n",
              "000861c9aa2a0784b8d83f8b5b95d010 2012-05-22 2016-05-22       2012-05-22   \n",
              "0010bcc39e42b3c2131ed2ce55246e3c 2013-02-25 2016-05-05              NaT   \n",
              "0010ee3855fdea87602a5b7aba8e42de 2010-06-01 2016-06-01              NaT   \n",
              "00114d74e963e47177db89bc70108537 2010-03-02 2016-03-02              NaT   \n",
              "00126c87cf78d7604278f0a9adeb689e 2012-05-01 2016-05-01              NaT   \n",
              "0013f326a839a2f6ad87a1859952d227 2013-02-22 2016-02-22       2013-02-22   \n",
              "00184e957277eeef733a7b563fdabd06 2013-02-04 2016-02-04              NaT   \n",
              "\n",
              "                                 date_modif_prod date_renewal  \n",
              "0002203ffbb812588b632b9e628cc38d      2010-01-19   2015-02-25  \n",
              "000381698491fec6983d55828fe5ada6      2013-08-30   2015-08-31  \n",
              "0004351ebdd665e6ee664792efc4fd13      2013-06-21   2015-06-23  \n",
              "000861c9aa2a0784b8d83f8b5b95d010      2013-11-06   2015-06-23  \n",
              "0010bcc39e42b3c2131ed2ce55246e3c      2015-05-05   2015-02-26  \n",
              "0010ee3855fdea87602a5b7aba8e42de      2010-06-01   2015-06-08  \n",
              "00114d74e963e47177db89bc70108537      2010-03-02   2015-03-09  \n",
              "00126c87cf78d7604278f0a9adeb689e      2012-05-01   2015-05-02  \n",
              "0013f326a839a2f6ad87a1859952d227      2014-10-07   2015-02-26  \n",
              "00184e957277eeef733a7b563fdabd06      2013-02-04   2015-02-05  "
            ]
          },
          "metadata": {
            "tags": []
          },
          "execution_count": 221
        }
      ]
    },
    {
      "metadata": {
        "id": "p7ODgVfhs4kF",
        "colab_type": "code",
        "colab": {
          "base_uri": "https://localhost:8080/",
          "height": 54
        },
        "outputId": "2d0b7b4d-bba1-4d59-b7aa-1939e0783cf3"
      },
      "cell_type": "code",
      "source": [
        "# date_end\n",
        "# Only two missing, and no real pattern - therefore make missing values the median\n",
        "\n",
        "feature = 'date_end'\n",
        "\n",
        "print('#nulls out of 16096 for {}:'.format(feature),sum(model_data[feature].isnull()))\n",
        "\n",
        "model_data['missing_'+feature] = model_data[feature].isnull()\n",
        "\n",
        "median_date_end = sorted(model_data[feature])[len(model_data[feature])//2]\n",
        "model_data[feature] = model_data[feature].fillna(median_date_end)"
      ],
      "execution_count": 222,
      "outputs": [
        {
          "output_type": "stream",
          "text": [
            "#nulls out of 16096 for date_end: 2\n"
          ],
          "name": "stdout"
        }
      ]
    },
    {
      "metadata": {
        "id": "0uRRwiCPmP0w",
        "colab_type": "code",
        "colab": {
          "base_uri": "https://localhost:8080/",
          "height": 54
        },
        "outputId": "8fe51e9c-46a1-40df-e6de-0d9e597846b2"
      },
      "cell_type": "code",
      "source": [
        "# date_renewal\n",
        "# date_renewal always exactly one year before date_end (from 364-362 days before)\n",
        "\n",
        "feature = 'date_renewal'\n",
        "\n",
        "print('#nulls out of 16096 for {}:'.format(feature),sum(model_data[feature].isnull()))\n",
        "\n",
        "model_data['missing_'+feature] = model_data[feature].isnull()\n",
        "\n",
        "model_data[feature] = model_data[feature].fillna(model_data['date_end'] - pd.DateOffset(years=1,days=-1))"
      ],
      "execution_count": 223,
      "outputs": [
        {
          "output_type": "stream",
          "text": [
            "#nulls out of 16096 for date_renewal: 44\n"
          ],
          "name": "stdout"
        }
      ]
    },
    {
      "metadata": {
        "id": "ff610sRtowBX",
        "colab_type": "code",
        "colab": {
          "base_uri": "https://localhost:8080/",
          "height": 54
        },
        "outputId": "1a87b680-4c72-4605-9008-3c2df172697a"
      },
      "cell_type": "code",
      "source": [
        "# date_modif_prod\n",
        "# For the vast majority of 'date_modif_prod', it is exactly the same as 'date_activ'\n",
        "# Therefore, set missing 'date_modif_prod'='date_activ'\n",
        "\n",
        "feature = 'date_modif_prod'\n",
        "\n",
        "print('#nulls out of 16096 for {}:'.format(feature),sum(model_data[feature].isnull()))\n",
        "\n",
        "model_data['missing_'+feature] = model_data[feature].isnull()\n",
        "\n",
        "model_data[feature] = model_data[feature].fillna(model_data['date_activ'])"
      ],
      "execution_count": 224,
      "outputs": [
        {
          "output_type": "stream",
          "text": [
            "#nulls out of 16096 for date_modif_prod: 202\n"
          ],
          "name": "stdout"
        }
      ]
    },
    {
      "metadata": {
        "id": "dg9CrJjusGPE",
        "colab_type": "code",
        "colab": {
          "base_uri": "https://localhost:8080/",
          "height": 54
        },
        "outputId": "8dafb2f2-55d8-479a-9b61-ace1d87441ec"
      },
      "cell_type": "code",
      "source": [
        "# date_first_activ\n",
        "# For the non-missing 'date_first_activ', they are exactly the same as 'date_activ'\n",
        "# Therefore, set missing 'date_first_activ'='date_activ'\n",
        "\n",
        "feature = 'date_first_activ'\n",
        "\n",
        "print('#nulls out of 16096 for {}:'.format(feature),sum(model_data[feature].isnull()))\n",
        "\n",
        "model_data['missing_'+feature] = model_data[feature].isnull()\n",
        "\n",
        "model_data[feature] = model_data[feature].fillna(model_data['date_activ'])"
      ],
      "execution_count": 225,
      "outputs": [
        {
          "output_type": "stream",
          "text": [
            "#nulls out of 16096 for date_first_activ: 15735\n"
          ],
          "name": "stdout"
        }
      ]
    },
    {
      "metadata": {
        "id": "5KyhuromDc3m",
        "colab_type": "code",
        "colab": {}
      },
      "cell_type": "code",
      "source": [
        "quarter_date_cols = []\n",
        "\n",
        "for col in date_cols:\n",
        "  model_data['quarter_'+col] = model_data[col].dt.quarter\n",
        "  model_data['year_'+col] = model_data[col].dt.year\n",
        "  quarter_date_cols.extend(['quarter_'+col])\n",
        "\n",
        "# Drop original datetime cols\n",
        "model_data = model_data.drop(date_cols,axis=1)"
      ],
      "execution_count": 0,
      "outputs": []
    },
    {
      "metadata": {
        "id": "tuyD8wr3FTdO",
        "colab_type": "code",
        "colab": {}
      },
      "cell_type": "code",
      "source": [
        "model_data = pd.get_dummies(model_data, columns=quarter_date_cols, drop_first=True)"
      ],
      "execution_count": 0,
      "outputs": []
    },
    {
      "metadata": {
        "id": "plNlrsXgthwo",
        "colab_type": "text"
      },
      "cell_type": "markdown",
      "source": [
        "## FORECAST VARS"
      ]
    },
    {
      "metadata": {
        "id": "HiYsPX0ts_Jz",
        "colab_type": "code",
        "colab": {
          "base_uri": "https://localhost:8080/",
          "height": 645
        },
        "outputId": "761a6868-a521-4e5b-af77-9502d9f35484"
      },
      "cell_type": "code",
      "source": [
        "# forecast columns\n",
        "\n",
        "forecast_cols = [col for col in model_data.columns if col[:8]=='forecast']\n",
        "\n",
        "model_data[forecast_cols].info()\n",
        "model_data[forecast_cols].head(10)"
      ],
      "execution_count": 228,
      "outputs": [
        {
          "output_type": "stream",
          "text": [
            "<class 'pandas.core.frame.DataFrame'>\n",
            "Index: 20120 entries, 0002203ffbb812588b632b9e628cc38d to ffff7fa066f1fb305ae285bb03bf325a\n",
            "Data columns (total 11 columns):\n",
            "forecast_base_bill_ele      4385 non-null float64\n",
            "forecast_base_bill_year     4385 non-null float64\n",
            "forecast_bill_12m           4385 non-null float64\n",
            "forecast_cons               4385 non-null float64\n",
            "forecast_cons_12m           20120 non-null float64\n",
            "forecast_cons_year          20120 non-null int64\n",
            "forecast_discount_energy    19970 non-null float64\n",
            "forecast_meter_rent_12m     20120 non-null float64\n",
            "forecast_price_energy_p1    19970 non-null float64\n",
            "forecast_price_energy_p2    19970 non-null float64\n",
            "forecast_price_pow_p1       19970 non-null float64\n",
            "dtypes: float64(10), int64(1)\n",
            "memory usage: 1.8+ MB\n"
          ],
          "name": "stdout"
        },
        {
          "output_type": "execute_result",
          "data": {
            "text/html": [
              "<div>\n",
              "<style scoped>\n",
              "    .dataframe tbody tr th:only-of-type {\n",
              "        vertical-align: middle;\n",
              "    }\n",
              "\n",
              "    .dataframe tbody tr th {\n",
              "        vertical-align: top;\n",
              "    }\n",
              "\n",
              "    .dataframe thead th {\n",
              "        text-align: right;\n",
              "    }\n",
              "</style>\n",
              "<table border=\"1\" class=\"dataframe\">\n",
              "  <thead>\n",
              "    <tr style=\"text-align: right;\">\n",
              "      <th></th>\n",
              "      <th>forecast_base_bill_ele</th>\n",
              "      <th>forecast_base_bill_year</th>\n",
              "      <th>forecast_bill_12m</th>\n",
              "      <th>forecast_cons</th>\n",
              "      <th>forecast_cons_12m</th>\n",
              "      <th>forecast_cons_year</th>\n",
              "      <th>forecast_discount_energy</th>\n",
              "      <th>forecast_meter_rent_12m</th>\n",
              "      <th>forecast_price_energy_p1</th>\n",
              "      <th>forecast_price_energy_p2</th>\n",
              "      <th>forecast_price_pow_p1</th>\n",
              "    </tr>\n",
              "  </thead>\n",
              "  <tbody>\n",
              "    <tr>\n",
              "      <th>0002203ffbb812588b632b9e628cc38d</th>\n",
              "      <td>NaN</td>\n",
              "      <td>NaN</td>\n",
              "      <td>NaN</td>\n",
              "      <td>NaN</td>\n",
              "      <td>729.06</td>\n",
              "      <td>425</td>\n",
              "      <td>0.0</td>\n",
              "      <td>138.95</td>\n",
              "      <td>0.116900</td>\n",
              "      <td>0.100015</td>\n",
              "      <td>40.606701</td>\n",
              "    </tr>\n",
              "    <tr>\n",
              "      <th>000381698491fec6983d55828fe5ada6</th>\n",
              "      <td>3824.96</td>\n",
              "      <td>3824.96</td>\n",
              "      <td>43767.27</td>\n",
              "      <td>2146.41</td>\n",
              "      <td>26891.67</td>\n",
              "      <td>24700</td>\n",
              "      <td>0.0</td>\n",
              "      <td>350.90</td>\n",
              "      <td>0.095022</td>\n",
              "      <td>0.086748</td>\n",
              "      <td>58.995952</td>\n",
              "    </tr>\n",
              "    <tr>\n",
              "      <th>0004351ebdd665e6ee664792efc4fd13</th>\n",
              "      <td>NaN</td>\n",
              "      <td>NaN</td>\n",
              "      <td>NaN</td>\n",
              "      <td>NaN</td>\n",
              "      <td>597.77</td>\n",
              "      <td>0</td>\n",
              "      <td>0.0</td>\n",
              "      <td>6.84</td>\n",
              "      <td>0.142065</td>\n",
              "      <td>0.000000</td>\n",
              "      <td>44.311378</td>\n",
              "    </tr>\n",
              "    <tr>\n",
              "      <th>000861c9aa2a0784b8d83f8b5b95d010</th>\n",
              "      <td>213.28</td>\n",
              "      <td>213.28</td>\n",
              "      <td>2819.54</td>\n",
              "      <td>122.01</td>\n",
              "      <td>1726.89</td>\n",
              "      <td>1268</td>\n",
              "      <td>0.0</td>\n",
              "      <td>143.61</td>\n",
              "      <td>0.116910</td>\n",
              "      <td>0.100572</td>\n",
              "      <td>40.606701</td>\n",
              "    </tr>\n",
              "    <tr>\n",
              "      <th>0010bcc39e42b3c2131ed2ce55246e3c</th>\n",
              "      <td>NaN</td>\n",
              "      <td>NaN</td>\n",
              "      <td>NaN</td>\n",
              "      <td>NaN</td>\n",
              "      <td>1311.16</td>\n",
              "      <td>1062</td>\n",
              "      <td>30.0</td>\n",
              "      <td>18.37</td>\n",
              "      <td>0.199230</td>\n",
              "      <td>0.000000</td>\n",
              "      <td>45.806878</td>\n",
              "    </tr>\n",
              "    <tr>\n",
              "      <th>0010ee3855fdea87602a5b7aba8e42de</th>\n",
              "      <td>NaN</td>\n",
              "      <td>NaN</td>\n",
              "      <td>NaN</td>\n",
              "      <td>NaN</td>\n",
              "      <td>11776.27</td>\n",
              "      <td>17393</td>\n",
              "      <td>0.0</td>\n",
              "      <td>132.11</td>\n",
              "      <td>0.110083</td>\n",
              "      <td>0.093746</td>\n",
              "      <td>40.606701</td>\n",
              "    </tr>\n",
              "    <tr>\n",
              "      <th>00114d74e963e47177db89bc70108537</th>\n",
              "      <td>NaN</td>\n",
              "      <td>NaN</td>\n",
              "      <td>NaN</td>\n",
              "      <td>NaN</td>\n",
              "      <td>1671.41</td>\n",
              "      <td>0</td>\n",
              "      <td>0.0</td>\n",
              "      <td>18.27</td>\n",
              "      <td>0.144149</td>\n",
              "      <td>0.000000</td>\n",
              "      <td>44.311378</td>\n",
              "    </tr>\n",
              "    <tr>\n",
              "      <th>00126c87cf78d7604278f0a9adeb689e</th>\n",
              "      <td>NaN</td>\n",
              "      <td>NaN</td>\n",
              "      <td>NaN</td>\n",
              "      <td>NaN</td>\n",
              "      <td>10378.44</td>\n",
              "      <td>6760</td>\n",
              "      <td>0.0</td>\n",
              "      <td>393.44</td>\n",
              "      <td>0.110083</td>\n",
              "      <td>0.093746</td>\n",
              "      <td>40.606701</td>\n",
              "    </tr>\n",
              "    <tr>\n",
              "      <th>0013f326a839a2f6ad87a1859952d227</th>\n",
              "      <td>302.04</td>\n",
              "      <td>302.04</td>\n",
              "      <td>4553.78</td>\n",
              "      <td>195.20</td>\n",
              "      <td>3077.34</td>\n",
              "      <td>1760</td>\n",
              "      <td>0.0</td>\n",
              "      <td>144.86</td>\n",
              "      <td>0.118636</td>\n",
              "      <td>0.101750</td>\n",
              "      <td>40.606701</td>\n",
              "    </tr>\n",
              "    <tr>\n",
              "      <th>00184e957277eeef733a7b563fdabd06</th>\n",
              "      <td>NaN</td>\n",
              "      <td>NaN</td>\n",
              "      <td>NaN</td>\n",
              "      <td>NaN</td>\n",
              "      <td>2363.54</td>\n",
              "      <td>5501</td>\n",
              "      <td>0.0</td>\n",
              "      <td>19.57</td>\n",
              "      <td>0.143801</td>\n",
              "      <td>0.000000</td>\n",
              "      <td>44.311378</td>\n",
              "    </tr>\n",
              "  </tbody>\n",
              "</table>\n",
              "</div>"
            ],
            "text/plain": [
              "                                  forecast_base_bill_ele  \\\n",
              "0002203ffbb812588b632b9e628cc38d                     NaN   \n",
              "000381698491fec6983d55828fe5ada6                 3824.96   \n",
              "0004351ebdd665e6ee664792efc4fd13                     NaN   \n",
              "000861c9aa2a0784b8d83f8b5b95d010                  213.28   \n",
              "0010bcc39e42b3c2131ed2ce55246e3c                     NaN   \n",
              "0010ee3855fdea87602a5b7aba8e42de                     NaN   \n",
              "00114d74e963e47177db89bc70108537                     NaN   \n",
              "00126c87cf78d7604278f0a9adeb689e                     NaN   \n",
              "0013f326a839a2f6ad87a1859952d227                  302.04   \n",
              "00184e957277eeef733a7b563fdabd06                     NaN   \n",
              "\n",
              "                                  forecast_base_bill_year  forecast_bill_12m  \\\n",
              "0002203ffbb812588b632b9e628cc38d                      NaN                NaN   \n",
              "000381698491fec6983d55828fe5ada6                  3824.96           43767.27   \n",
              "0004351ebdd665e6ee664792efc4fd13                      NaN                NaN   \n",
              "000861c9aa2a0784b8d83f8b5b95d010                   213.28            2819.54   \n",
              "0010bcc39e42b3c2131ed2ce55246e3c                      NaN                NaN   \n",
              "0010ee3855fdea87602a5b7aba8e42de                      NaN                NaN   \n",
              "00114d74e963e47177db89bc70108537                      NaN                NaN   \n",
              "00126c87cf78d7604278f0a9adeb689e                      NaN                NaN   \n",
              "0013f326a839a2f6ad87a1859952d227                   302.04            4553.78   \n",
              "00184e957277eeef733a7b563fdabd06                      NaN                NaN   \n",
              "\n",
              "                                  forecast_cons  forecast_cons_12m  \\\n",
              "0002203ffbb812588b632b9e628cc38d            NaN             729.06   \n",
              "000381698491fec6983d55828fe5ada6        2146.41           26891.67   \n",
              "0004351ebdd665e6ee664792efc4fd13            NaN             597.77   \n",
              "000861c9aa2a0784b8d83f8b5b95d010         122.01            1726.89   \n",
              "0010bcc39e42b3c2131ed2ce55246e3c            NaN            1311.16   \n",
              "0010ee3855fdea87602a5b7aba8e42de            NaN           11776.27   \n",
              "00114d74e963e47177db89bc70108537            NaN            1671.41   \n",
              "00126c87cf78d7604278f0a9adeb689e            NaN           10378.44   \n",
              "0013f326a839a2f6ad87a1859952d227         195.20            3077.34   \n",
              "00184e957277eeef733a7b563fdabd06            NaN            2363.54   \n",
              "\n",
              "                                  forecast_cons_year  \\\n",
              "0002203ffbb812588b632b9e628cc38d                 425   \n",
              "000381698491fec6983d55828fe5ada6               24700   \n",
              "0004351ebdd665e6ee664792efc4fd13                   0   \n",
              "000861c9aa2a0784b8d83f8b5b95d010                1268   \n",
              "0010bcc39e42b3c2131ed2ce55246e3c                1062   \n",
              "0010ee3855fdea87602a5b7aba8e42de               17393   \n",
              "00114d74e963e47177db89bc70108537                   0   \n",
              "00126c87cf78d7604278f0a9adeb689e                6760   \n",
              "0013f326a839a2f6ad87a1859952d227                1760   \n",
              "00184e957277eeef733a7b563fdabd06                5501   \n",
              "\n",
              "                                  forecast_discount_energy  \\\n",
              "0002203ffbb812588b632b9e628cc38d                       0.0   \n",
              "000381698491fec6983d55828fe5ada6                       0.0   \n",
              "0004351ebdd665e6ee664792efc4fd13                       0.0   \n",
              "000861c9aa2a0784b8d83f8b5b95d010                       0.0   \n",
              "0010bcc39e42b3c2131ed2ce55246e3c                      30.0   \n",
              "0010ee3855fdea87602a5b7aba8e42de                       0.0   \n",
              "00114d74e963e47177db89bc70108537                       0.0   \n",
              "00126c87cf78d7604278f0a9adeb689e                       0.0   \n",
              "0013f326a839a2f6ad87a1859952d227                       0.0   \n",
              "00184e957277eeef733a7b563fdabd06                       0.0   \n",
              "\n",
              "                                  forecast_meter_rent_12m  \\\n",
              "0002203ffbb812588b632b9e628cc38d                   138.95   \n",
              "000381698491fec6983d55828fe5ada6                   350.90   \n",
              "0004351ebdd665e6ee664792efc4fd13                     6.84   \n",
              "000861c9aa2a0784b8d83f8b5b95d010                   143.61   \n",
              "0010bcc39e42b3c2131ed2ce55246e3c                    18.37   \n",
              "0010ee3855fdea87602a5b7aba8e42de                   132.11   \n",
              "00114d74e963e47177db89bc70108537                    18.27   \n",
              "00126c87cf78d7604278f0a9adeb689e                   393.44   \n",
              "0013f326a839a2f6ad87a1859952d227                   144.86   \n",
              "00184e957277eeef733a7b563fdabd06                    19.57   \n",
              "\n",
              "                                  forecast_price_energy_p1  \\\n",
              "0002203ffbb812588b632b9e628cc38d                  0.116900   \n",
              "000381698491fec6983d55828fe5ada6                  0.095022   \n",
              "0004351ebdd665e6ee664792efc4fd13                  0.142065   \n",
              "000861c9aa2a0784b8d83f8b5b95d010                  0.116910   \n",
              "0010bcc39e42b3c2131ed2ce55246e3c                  0.199230   \n",
              "0010ee3855fdea87602a5b7aba8e42de                  0.110083   \n",
              "00114d74e963e47177db89bc70108537                  0.144149   \n",
              "00126c87cf78d7604278f0a9adeb689e                  0.110083   \n",
              "0013f326a839a2f6ad87a1859952d227                  0.118636   \n",
              "00184e957277eeef733a7b563fdabd06                  0.143801   \n",
              "\n",
              "                                  forecast_price_energy_p2  \\\n",
              "0002203ffbb812588b632b9e628cc38d                  0.100015   \n",
              "000381698491fec6983d55828fe5ada6                  0.086748   \n",
              "0004351ebdd665e6ee664792efc4fd13                  0.000000   \n",
              "000861c9aa2a0784b8d83f8b5b95d010                  0.100572   \n",
              "0010bcc39e42b3c2131ed2ce55246e3c                  0.000000   \n",
              "0010ee3855fdea87602a5b7aba8e42de                  0.093746   \n",
              "00114d74e963e47177db89bc70108537                  0.000000   \n",
              "00126c87cf78d7604278f0a9adeb689e                  0.093746   \n",
              "0013f326a839a2f6ad87a1859952d227                  0.101750   \n",
              "00184e957277eeef733a7b563fdabd06                  0.000000   \n",
              "\n",
              "                                  forecast_price_pow_p1  \n",
              "0002203ffbb812588b632b9e628cc38d              40.606701  \n",
              "000381698491fec6983d55828fe5ada6              58.995952  \n",
              "0004351ebdd665e6ee664792efc4fd13              44.311378  \n",
              "000861c9aa2a0784b8d83f8b5b95d010              40.606701  \n",
              "0010bcc39e42b3c2131ed2ce55246e3c              45.806878  \n",
              "0010ee3855fdea87602a5b7aba8e42de              40.606701  \n",
              "00114d74e963e47177db89bc70108537              44.311378  \n",
              "00126c87cf78d7604278f0a9adeb689e              40.606701  \n",
              "0013f326a839a2f6ad87a1859952d227              40.606701  \n",
              "00184e957277eeef733a7b563fdabd06              44.311378  "
            ]
          },
          "metadata": {
            "tags": []
          },
          "execution_count": 228
        }
      ]
    },
    {
      "metadata": {
        "id": "ytkt4wtuvp4g",
        "colab_type": "code",
        "colab": {
          "base_uri": "https://localhost:8080/",
          "height": 424
        },
        "outputId": "ce43e16e-68f4-47d4-9937-62686b0a8f9f"
      },
      "cell_type": "code",
      "source": [
        "for col in forecast_cols:\n",
        "  feature = col\n",
        "\n",
        "  print('#nulls out of 16096 for {}:'.format(feature),sum(model_data[feature].isnull()))\n",
        "  print('#zeros out of 16096 for {}:'.format(feature),sum((model_data[feature]==0)))\n",
        "\n",
        "  model_data['missing_'+feature] = model_data[feature].isnull()\n",
        "  model_data['zero_'+feature] = (model_data[feature]==0)\n",
        "  \n",
        "  col_median = model_data[feature].median()\n",
        "\n",
        "  model_data[feature] = model_data[feature].replace(to_replace=0, value=col_median)\n",
        "  model_data[feature] = model_data[feature].fillna(col_median)"
      ],
      "execution_count": 229,
      "outputs": [
        {
          "output_type": "stream",
          "text": [
            "#nulls out of 16096 for forecast_base_bill_ele: 15735\n",
            "#zeros out of 16096 for forecast_base_bill_ele: 1804\n",
            "#nulls out of 16096 for forecast_base_bill_year: 15735\n",
            "#zeros out of 16096 for forecast_base_bill_year: 1804\n",
            "#nulls out of 16096 for forecast_bill_12m: 15735\n",
            "#zeros out of 16096 for forecast_bill_12m: 75\n",
            "#nulls out of 16096 for forecast_cons: 15735\n",
            "#zeros out of 16096 for forecast_cons: 1902\n",
            "#nulls out of 16096 for forecast_cons_12m: 0\n",
            "#zeros out of 16096 for forecast_cons_12m: 409\n",
            "#nulls out of 16096 for forecast_cons_year: 0\n",
            "#zeros out of 16096 for forecast_cons_year: 8162\n",
            "#nulls out of 16096 for forecast_discount_energy: 150\n",
            "#zeros out of 16096 for forecast_discount_energy: 19238\n",
            "#nulls out of 16096 for forecast_meter_rent_12m: 0\n",
            "#zeros out of 16096 for forecast_meter_rent_12m: 1019\n",
            "#nulls out of 16096 for forecast_price_energy_p1: 150\n",
            "#zeros out of 16096 for forecast_price_energy_p1: 30\n",
            "#nulls out of 16096 for forecast_price_energy_p2: 150\n",
            "#zeros out of 16096 for forecast_price_energy_p2: 9045\n",
            "#nulls out of 16096 for forecast_price_pow_p1: 150\n",
            "#zeros out of 16096 for forecast_price_pow_p1: 121\n"
          ],
          "name": "stdout"
        }
      ]
    },
    {
      "metadata": {
        "id": "nlXbruol3ZVx",
        "colab_type": "text"
      },
      "cell_type": "markdown",
      "source": [
        "## CONS VARS"
      ]
    },
    {
      "metadata": {
        "id": "vQC7eJoH3YeY",
        "colab_type": "code",
        "colab": {
          "base_uri": "https://localhost:8080/",
          "height": 504
        },
        "outputId": "1d3508dc-8f94-46ec-c875-65a344032e36"
      },
      "cell_type": "code",
      "source": [
        "# cons columns\n",
        "\n",
        "cons_cols = [col for col in model_data.columns if col[:4]=='cons']\n",
        "\n",
        "model_data[cons_cols].info()\n",
        "model_data[cons_cols].head(10)"
      ],
      "execution_count": 230,
      "outputs": [
        {
          "output_type": "stream",
          "text": [
            "<class 'pandas.core.frame.DataFrame'>\n",
            "Index: 20120 entries, 0002203ffbb812588b632b9e628cc38d to ffff7fa066f1fb305ae285bb03bf325a\n",
            "Data columns (total 3 columns):\n",
            "cons_12m           20120 non-null int64\n",
            "cons_gas_12m       20120 non-null int64\n",
            "cons_last_month    20120 non-null int64\n",
            "dtypes: int64(3)\n",
            "memory usage: 628.8+ KB\n"
          ],
          "name": "stdout"
        },
        {
          "output_type": "execute_result",
          "data": {
            "text/html": [
              "<div>\n",
              "<style scoped>\n",
              "    .dataframe tbody tr th:only-of-type {\n",
              "        vertical-align: middle;\n",
              "    }\n",
              "\n",
              "    .dataframe tbody tr th {\n",
              "        vertical-align: top;\n",
              "    }\n",
              "\n",
              "    .dataframe thead th {\n",
              "        text-align: right;\n",
              "    }\n",
              "</style>\n",
              "<table border=\"1\" class=\"dataframe\">\n",
              "  <thead>\n",
              "    <tr style=\"text-align: right;\">\n",
              "      <th></th>\n",
              "      <th>cons_12m</th>\n",
              "      <th>cons_gas_12m</th>\n",
              "      <th>cons_last_month</th>\n",
              "    </tr>\n",
              "  </thead>\n",
              "  <tbody>\n",
              "    <tr>\n",
              "      <th>0002203ffbb812588b632b9e628cc38d</th>\n",
              "      <td>22034</td>\n",
              "      <td>0</td>\n",
              "      <td>3084</td>\n",
              "    </tr>\n",
              "    <tr>\n",
              "      <th>000381698491fec6983d55828fe5ada6</th>\n",
              "      <td>296024</td>\n",
              "      <td>0</td>\n",
              "      <td>24700</td>\n",
              "    </tr>\n",
              "    <tr>\n",
              "      <th>0004351ebdd665e6ee664792efc4fd13</th>\n",
              "      <td>4060</td>\n",
              "      <td>0</td>\n",
              "      <td>0</td>\n",
              "    </tr>\n",
              "    <tr>\n",
              "      <th>000861c9aa2a0784b8d83f8b5b95d010</th>\n",
              "      <td>17943</td>\n",
              "      <td>31425</td>\n",
              "      <td>1268</td>\n",
              "    </tr>\n",
              "    <tr>\n",
              "      <th>0010bcc39e42b3c2131ed2ce55246e3c</th>\n",
              "      <td>7440</td>\n",
              "      <td>0</td>\n",
              "      <td>1062</td>\n",
              "    </tr>\n",
              "    <tr>\n",
              "      <th>0010ee3855fdea87602a5b7aba8e42de</th>\n",
              "      <td>4199490</td>\n",
              "      <td>728810</td>\n",
              "      <td>456462</td>\n",
              "    </tr>\n",
              "    <tr>\n",
              "      <th>00114d74e963e47177db89bc70108537</th>\n",
              "      <td>11272</td>\n",
              "      <td>0</td>\n",
              "      <td>0</td>\n",
              "    </tr>\n",
              "    <tr>\n",
              "      <th>00126c87cf78d7604278f0a9adeb689e</th>\n",
              "      <td>104657</td>\n",
              "      <td>0</td>\n",
              "      <td>6760</td>\n",
              "    </tr>\n",
              "    <tr>\n",
              "      <th>0013f326a839a2f6ad87a1859952d227</th>\n",
              "      <td>267414</td>\n",
              "      <td>0</td>\n",
              "      <td>19394</td>\n",
              "    </tr>\n",
              "    <tr>\n",
              "      <th>00184e957277eeef733a7b563fdabd06</th>\n",
              "      <td>16072</td>\n",
              "      <td>0</td>\n",
              "      <td>5501</td>\n",
              "    </tr>\n",
              "  </tbody>\n",
              "</table>\n",
              "</div>"
            ],
            "text/plain": [
              "                                  cons_12m  cons_gas_12m  cons_last_month\n",
              "0002203ffbb812588b632b9e628cc38d     22034             0             3084\n",
              "000381698491fec6983d55828fe5ada6    296024             0            24700\n",
              "0004351ebdd665e6ee664792efc4fd13      4060             0                0\n",
              "000861c9aa2a0784b8d83f8b5b95d010     17943         31425             1268\n",
              "0010bcc39e42b3c2131ed2ce55246e3c      7440             0             1062\n",
              "0010ee3855fdea87602a5b7aba8e42de   4199490        728810           456462\n",
              "00114d74e963e47177db89bc70108537     11272             0                0\n",
              "00126c87cf78d7604278f0a9adeb689e    104657             0             6760\n",
              "0013f326a839a2f6ad87a1859952d227    267414             0            19394\n",
              "00184e957277eeef733a7b563fdabd06     16072             0             5501"
            ]
          },
          "metadata": {
            "tags": []
          },
          "execution_count": 230
        }
      ]
    },
    {
      "metadata": {
        "id": "Slvvn7Dd4IOW",
        "colab_type": "code",
        "colab": {
          "base_uri": "https://localhost:8080/",
          "height": 142
        },
        "outputId": "6fecedca-7d48-4b3f-f549-20c076b0f0e2"
      },
      "cell_type": "code",
      "source": [
        "for col in cons_cols:\n",
        "  feature = col\n",
        "\n",
        "  print('#nulls out of 16096 for {}:'.format(feature),sum(model_data[feature].isnull()))\n",
        "  print('#zeros out of 16096 for {}:'.format(feature),sum((model_data[feature]==0)))\n",
        "\n",
        "  model_data['missing_'+feature] = model_data[feature].isnull()\n",
        "  model_data['zero_'+feature] = (model_data[feature]==0)\n",
        "  \n",
        "  col_median = model_data[feature].median()\n",
        "\n",
        "  model_data[feature] = model_data[feature].replace(to_replace=0, value=col_median)\n",
        "  model_data[feature] = model_data[feature].fillna(col_median)"
      ],
      "execution_count": 231,
      "outputs": [
        {
          "output_type": "stream",
          "text": [
            "#nulls out of 16096 for cons_12m: 0\n",
            "#zeros out of 16096 for cons_12m: 159\n",
            "#nulls out of 16096 for cons_gas_12m: 0\n",
            "#zeros out of 16096 for cons_gas_12m: 16476\n",
            "#nulls out of 16096 for cons_last_month: 0\n",
            "#zeros out of 16096 for cons_last_month: 6548\n"
          ],
          "name": "stdout"
        }
      ]
    },
    {
      "metadata": {
        "id": "DRts6jzUF435",
        "colab_type": "text"
      },
      "cell_type": "markdown",
      "source": [
        "## ORDINALS"
      ]
    },
    {
      "metadata": {
        "id": "-RY0QDe_F4Rl",
        "colab_type": "code",
        "colab": {
          "base_uri": "https://localhost:8080/",
          "height": 486
        },
        "outputId": "5c886540-165c-494d-8a11-97c5ce00345c"
      },
      "cell_type": "code",
      "source": [
        "# ordinal columns\n",
        "\n",
        "ordinal_cols = ['nb_prod_act', 'num_years_antig']\n",
        "\n",
        "model_data[ordinal_cols].info()\n",
        "model_data[ordinal_cols].head(10)"
      ],
      "execution_count": 232,
      "outputs": [
        {
          "output_type": "stream",
          "text": [
            "<class 'pandas.core.frame.DataFrame'>\n",
            "Index: 20120 entries, 0002203ffbb812588b632b9e628cc38d to ffff7fa066f1fb305ae285bb03bf325a\n",
            "Data columns (total 2 columns):\n",
            "nb_prod_act        20120 non-null int64\n",
            "num_years_antig    20120 non-null int64\n",
            "dtypes: int64(2)\n",
            "memory usage: 471.6+ KB\n"
          ],
          "name": "stdout"
        },
        {
          "output_type": "execute_result",
          "data": {
            "text/html": [
              "<div>\n",
              "<style scoped>\n",
              "    .dataframe tbody tr th:only-of-type {\n",
              "        vertical-align: middle;\n",
              "    }\n",
              "\n",
              "    .dataframe tbody tr th {\n",
              "        vertical-align: top;\n",
              "    }\n",
              "\n",
              "    .dataframe thead th {\n",
              "        text-align: right;\n",
              "    }\n",
              "</style>\n",
              "<table border=\"1\" class=\"dataframe\">\n",
              "  <thead>\n",
              "    <tr style=\"text-align: right;\">\n",
              "      <th></th>\n",
              "      <th>nb_prod_act</th>\n",
              "      <th>num_years_antig</th>\n",
              "    </tr>\n",
              "  </thead>\n",
              "  <tbody>\n",
              "    <tr>\n",
              "      <th>0002203ffbb812588b632b9e628cc38d</th>\n",
              "      <td>1</td>\n",
              "      <td>6</td>\n",
              "    </tr>\n",
              "    <tr>\n",
              "      <th>000381698491fec6983d55828fe5ada6</th>\n",
              "      <td>1</td>\n",
              "      <td>6</td>\n",
              "    </tr>\n",
              "    <tr>\n",
              "      <th>0004351ebdd665e6ee664792efc4fd13</th>\n",
              "      <td>1</td>\n",
              "      <td>6</td>\n",
              "    </tr>\n",
              "    <tr>\n",
              "      <th>000861c9aa2a0784b8d83f8b5b95d010</th>\n",
              "      <td>3</td>\n",
              "      <td>4</td>\n",
              "    </tr>\n",
              "    <tr>\n",
              "      <th>0010bcc39e42b3c2131ed2ce55246e3c</th>\n",
              "      <td>2</td>\n",
              "      <td>3</td>\n",
              "    </tr>\n",
              "    <tr>\n",
              "      <th>0010ee3855fdea87602a5b7aba8e42de</th>\n",
              "      <td>2</td>\n",
              "      <td>6</td>\n",
              "    </tr>\n",
              "    <tr>\n",
              "      <th>00114d74e963e47177db89bc70108537</th>\n",
              "      <td>1</td>\n",
              "      <td>6</td>\n",
              "    </tr>\n",
              "    <tr>\n",
              "      <th>00126c87cf78d7604278f0a9adeb689e</th>\n",
              "      <td>1</td>\n",
              "      <td>4</td>\n",
              "    </tr>\n",
              "    <tr>\n",
              "      <th>0013f326a839a2f6ad87a1859952d227</th>\n",
              "      <td>1</td>\n",
              "      <td>3</td>\n",
              "    </tr>\n",
              "    <tr>\n",
              "      <th>00184e957277eeef733a7b563fdabd06</th>\n",
              "      <td>1</td>\n",
              "      <td>3</td>\n",
              "    </tr>\n",
              "  </tbody>\n",
              "</table>\n",
              "</div>"
            ],
            "text/plain": [
              "                                  nb_prod_act  num_years_antig\n",
              "0002203ffbb812588b632b9e628cc38d            1                6\n",
              "000381698491fec6983d55828fe5ada6            1                6\n",
              "0004351ebdd665e6ee664792efc4fd13            1                6\n",
              "000861c9aa2a0784b8d83f8b5b95d010            3                4\n",
              "0010bcc39e42b3c2131ed2ce55246e3c            2                3\n",
              "0010ee3855fdea87602a5b7aba8e42de            2                6\n",
              "00114d74e963e47177db89bc70108537            1                6\n",
              "00126c87cf78d7604278f0a9adeb689e            1                4\n",
              "0013f326a839a2f6ad87a1859952d227            1                3\n",
              "00184e957277eeef733a7b563fdabd06            1                3"
            ]
          },
          "metadata": {
            "tags": []
          },
          "execution_count": 232
        }
      ]
    },
    {
      "metadata": {
        "id": "lvnuPwuoGeI9",
        "colab_type": "code",
        "colab": {}
      },
      "cell_type": "code",
      "source": [
        "# 'nb_prod_act'\n",
        "\n",
        "# model_data['nb_prod_act'].groupby(model_data['nb_prod_act']).count()\n",
        "\n",
        "# model_data.loc[model_data['nb_prod_act'] >=4, 'nb_prod_act'] = 4"
      ],
      "execution_count": 0,
      "outputs": []
    },
    {
      "metadata": {
        "id": "WC3twOGVLEcE",
        "colab_type": "code",
        "colab": {}
      },
      "cell_type": "code",
      "source": [
        "# 'num_years_antig'\n",
        "\n",
        "# model_data['num_years_antig'].groupby(model_data['num_years_antig']).count()\n",
        "\n",
        "# model_data.loc[model_data['num_years_antig'] <=3, 'num_years_antig'] = 3\n",
        "# model_data.loc[model_data['num_years_antig'] >=12, 'num_years_antig'] = 12"
      ],
      "execution_count": 0,
      "outputs": []
    },
    {
      "metadata": {
        "id": "OsadLGyS5Q0V",
        "colab_type": "text"
      },
      "cell_type": "markdown",
      "source": [
        "## CATEGORICALS"
      ]
    },
    {
      "metadata": {
        "id": "netMs6cz5QOl",
        "colab_type": "code",
        "colab": {
          "base_uri": "https://localhost:8080/",
          "height": 504
        },
        "outputId": "6f2e250c-7965-4f0a-9e5b-c7d6aa8fe8fe"
      },
      "cell_type": "code",
      "source": [
        "# categorical columns\n",
        "\n",
        "categorical_cols = ['activity_new', 'channel_sales', 'origin_up']\n",
        "\n",
        "model_data[categorical_cols].info()\n",
        "model_data[categorical_cols].head(10)"
      ],
      "execution_count": 235,
      "outputs": [
        {
          "output_type": "stream",
          "text": [
            "<class 'pandas.core.frame.DataFrame'>\n",
            "Index: 20120 entries, 0002203ffbb812588b632b9e628cc38d to ffff7fa066f1fb305ae285bb03bf325a\n",
            "Data columns (total 3 columns):\n",
            "activity_new     8221 non-null object\n",
            "channel_sales    14846 non-null object\n",
            "origin_up        20006 non-null object\n",
            "dtypes: object(3)\n",
            "memory usage: 628.8+ KB\n"
          ],
          "name": "stdout"
        },
        {
          "output_type": "execute_result",
          "data": {
            "text/html": [
              "<div>\n",
              "<style scoped>\n",
              "    .dataframe tbody tr th:only-of-type {\n",
              "        vertical-align: middle;\n",
              "    }\n",
              "\n",
              "    .dataframe tbody tr th {\n",
              "        vertical-align: top;\n",
              "    }\n",
              "\n",
              "    .dataframe thead th {\n",
              "        text-align: right;\n",
              "    }\n",
              "</style>\n",
              "<table border=\"1\" class=\"dataframe\">\n",
              "  <thead>\n",
              "    <tr style=\"text-align: right;\">\n",
              "      <th></th>\n",
              "      <th>activity_new</th>\n",
              "      <th>channel_sales</th>\n",
              "      <th>origin_up</th>\n",
              "    </tr>\n",
              "  </thead>\n",
              "  <tbody>\n",
              "    <tr>\n",
              "      <th>0002203ffbb812588b632b9e628cc38d</th>\n",
              "      <td>NaN</td>\n",
              "      <td>foosdfpfkusacimwkcsosbicdxkicaua</td>\n",
              "      <td>kamkkxfxxuwbdslkwifmmcsiusiuosws</td>\n",
              "    </tr>\n",
              "    <tr>\n",
              "      <th>000381698491fec6983d55828fe5ada6</th>\n",
              "      <td>NaN</td>\n",
              "      <td>lmkebamcaaclubfxadlmueccxoimlema</td>\n",
              "      <td>lxidpiddsbxsbosboudacockeimpuepw</td>\n",
              "    </tr>\n",
              "    <tr>\n",
              "      <th>0004351ebdd665e6ee664792efc4fd13</th>\n",
              "      <td>NaN</td>\n",
              "      <td>NaN</td>\n",
              "      <td>kamkkxfxxuwbdslkwifmmcsiusiuosws</td>\n",
              "    </tr>\n",
              "    <tr>\n",
              "      <th>000861c9aa2a0784b8d83f8b5b95d010</th>\n",
              "      <td>NaN</td>\n",
              "      <td>usilxuppasemubllopkaafesmlibmsdf</td>\n",
              "      <td>lxidpiddsbxsbosboudacockeimpuepw</td>\n",
              "    </tr>\n",
              "    <tr>\n",
              "      <th>0010bcc39e42b3c2131ed2ce55246e3c</th>\n",
              "      <td>fskfsbkdioupwobbsaoospkxaafmwobl</td>\n",
              "      <td>usilxuppasemubllopkaafesmlibmsdf</td>\n",
              "      <td>lxidpiddsbxsbosboudacockeimpuepw</td>\n",
              "    </tr>\n",
              "    <tr>\n",
              "      <th>0010ee3855fdea87602a5b7aba8e42de</th>\n",
              "      <td>apdekpcbwosbxepsfxclislboipuxpop</td>\n",
              "      <td>lmkebamcaaclubfxadlmueccxoimlema</td>\n",
              "      <td>kamkkxfxxuwbdslkwifmmcsiusiuosws</td>\n",
              "    </tr>\n",
              "    <tr>\n",
              "      <th>00114d74e963e47177db89bc70108537</th>\n",
              "      <td>sumdxiaiudmaioicexmiwuudlblkissm</td>\n",
              "      <td>ewpakwlliwisiwduibdlfmalxowmwpci</td>\n",
              "      <td>kamkkxfxxuwbdslkwifmmcsiusiuosws</td>\n",
              "    </tr>\n",
              "    <tr>\n",
              "      <th>00126c87cf78d7604278f0a9adeb689e</th>\n",
              "      <td>kwuslieomapmswolewpobpplkaooaaew</td>\n",
              "      <td>foosdfpfkusacimwkcsosbicdxkicaua</td>\n",
              "      <td>lxidpiddsbxsbosboudacockeimpuepw</td>\n",
              "    </tr>\n",
              "    <tr>\n",
              "      <th>0013f326a839a2f6ad87a1859952d227</th>\n",
              "      <td>duiwascsdupcmdfkspbukuuaklsawmmc</td>\n",
              "      <td>foosdfpfkusacimwkcsosbicdxkicaua</td>\n",
              "      <td>lxidpiddsbxsbosboudacockeimpuepw</td>\n",
              "    </tr>\n",
              "    <tr>\n",
              "      <th>00184e957277eeef733a7b563fdabd06</th>\n",
              "      <td>wxemiwkumpibllwklfbcooafckufkdlm</td>\n",
              "      <td>ewpakwlliwisiwduibdlfmalxowmwpci</td>\n",
              "      <td>ldkssxwpmemidmecebumciepifcamkci</td>\n",
              "    </tr>\n",
              "  </tbody>\n",
              "</table>\n",
              "</div>"
            ],
            "text/plain": [
              "                                                      activity_new  \\\n",
              "0002203ffbb812588b632b9e628cc38d                               NaN   \n",
              "000381698491fec6983d55828fe5ada6                               NaN   \n",
              "0004351ebdd665e6ee664792efc4fd13                               NaN   \n",
              "000861c9aa2a0784b8d83f8b5b95d010                               NaN   \n",
              "0010bcc39e42b3c2131ed2ce55246e3c  fskfsbkdioupwobbsaoospkxaafmwobl   \n",
              "0010ee3855fdea87602a5b7aba8e42de  apdekpcbwosbxepsfxclislboipuxpop   \n",
              "00114d74e963e47177db89bc70108537  sumdxiaiudmaioicexmiwuudlblkissm   \n",
              "00126c87cf78d7604278f0a9adeb689e  kwuslieomapmswolewpobpplkaooaaew   \n",
              "0013f326a839a2f6ad87a1859952d227  duiwascsdupcmdfkspbukuuaklsawmmc   \n",
              "00184e957277eeef733a7b563fdabd06  wxemiwkumpibllwklfbcooafckufkdlm   \n",
              "\n",
              "                                                     channel_sales  \\\n",
              "0002203ffbb812588b632b9e628cc38d  foosdfpfkusacimwkcsosbicdxkicaua   \n",
              "000381698491fec6983d55828fe5ada6  lmkebamcaaclubfxadlmueccxoimlema   \n",
              "0004351ebdd665e6ee664792efc4fd13                               NaN   \n",
              "000861c9aa2a0784b8d83f8b5b95d010  usilxuppasemubllopkaafesmlibmsdf   \n",
              "0010bcc39e42b3c2131ed2ce55246e3c  usilxuppasemubllopkaafesmlibmsdf   \n",
              "0010ee3855fdea87602a5b7aba8e42de  lmkebamcaaclubfxadlmueccxoimlema   \n",
              "00114d74e963e47177db89bc70108537  ewpakwlliwisiwduibdlfmalxowmwpci   \n",
              "00126c87cf78d7604278f0a9adeb689e  foosdfpfkusacimwkcsosbicdxkicaua   \n",
              "0013f326a839a2f6ad87a1859952d227  foosdfpfkusacimwkcsosbicdxkicaua   \n",
              "00184e957277eeef733a7b563fdabd06  ewpakwlliwisiwduibdlfmalxowmwpci   \n",
              "\n",
              "                                                         origin_up  \n",
              "0002203ffbb812588b632b9e628cc38d  kamkkxfxxuwbdslkwifmmcsiusiuosws  \n",
              "000381698491fec6983d55828fe5ada6  lxidpiddsbxsbosboudacockeimpuepw  \n",
              "0004351ebdd665e6ee664792efc4fd13  kamkkxfxxuwbdslkwifmmcsiusiuosws  \n",
              "000861c9aa2a0784b8d83f8b5b95d010  lxidpiddsbxsbosboudacockeimpuepw  \n",
              "0010bcc39e42b3c2131ed2ce55246e3c  lxidpiddsbxsbosboudacockeimpuepw  \n",
              "0010ee3855fdea87602a5b7aba8e42de  kamkkxfxxuwbdslkwifmmcsiusiuosws  \n",
              "00114d74e963e47177db89bc70108537  kamkkxfxxuwbdslkwifmmcsiusiuosws  \n",
              "00126c87cf78d7604278f0a9adeb689e  lxidpiddsbxsbosboudacockeimpuepw  \n",
              "0013f326a839a2f6ad87a1859952d227  lxidpiddsbxsbosboudacockeimpuepw  \n",
              "00184e957277eeef733a7b563fdabd06  ldkssxwpmemidmecebumciepifcamkci  "
            ]
          },
          "metadata": {
            "tags": []
          },
          "execution_count": 235
        }
      ]
    },
    {
      "metadata": {
        "id": "Q7EqXF4x5t4Q",
        "colab_type": "code",
        "colab": {}
      },
      "cell_type": "code",
      "source": [
        "for col in categorical_cols:\n",
        "  feature = col\n",
        "\n",
        "  model_data[feature] = model_data[feature].fillna('missing')\n",
        "\n",
        "  col_distn = model_data[feature].groupby(model_data[feature]).count().sort_values(ascending=False)\n",
        "  feature_replace = list(set(col_distn.index) - set(col_distn[col_distn.where(col_distn>100).notnull()].index))\n",
        "\n",
        "  model_data[feature] = model_data[feature].replace(to_replace=feature_replace, value='too_low')\n",
        "  model_data[feature] = model_data[feature].apply(lambda x: x[:7])\n"
      ],
      "execution_count": 0,
      "outputs": []
    },
    {
      "metadata": {
        "id": "X14SKaQZDTqY",
        "colab_type": "code",
        "colab": {}
      },
      "cell_type": "code",
      "source": [
        "# has_gas\n",
        "\n",
        "model_data['has_gas'] = (model_data['has_gas'] == 't')"
      ],
      "execution_count": 0,
      "outputs": []
    },
    {
      "metadata": {
        "id": "bWS8GvFPNwpE",
        "colab_type": "code",
        "colab": {}
      },
      "cell_type": "code",
      "source": [
        "model_data = pd.get_dummies(model_data, columns=categorical_cols, drop_first=True)"
      ],
      "execution_count": 0,
      "outputs": []
    },
    {
      "metadata": {
        "id": "8TjVKnpLt-IN",
        "colab_type": "text"
      },
      "cell_type": "markdown",
      "source": [
        "## OTHER VARS"
      ]
    },
    {
      "metadata": {
        "id": "1HSE3oHm0wY6",
        "colab_type": "code",
        "colab": {
          "base_uri": "https://localhost:8080/",
          "height": 539
        },
        "outputId": "e5fa9629-0ed5-43f6-a1fa-6e7d96d7b15d"
      },
      "cell_type": "code",
      "source": [
        "other_cols = ['imp_cons',\n",
        "              'margin_gross_pow_ele',\n",
        "              'margin_net_pow_ele',\n",
        "              'net_margin',\n",
        "              'pow_max']\n",
        "\n",
        "model_data[other_cols].info()\n",
        "model_data[other_cols].head(10)"
      ],
      "execution_count": 239,
      "outputs": [
        {
          "output_type": "stream",
          "text": [
            "<class 'pandas.core.frame.DataFrame'>\n",
            "Index: 20120 entries, 0002203ffbb812588b632b9e628cc38d to ffff7fa066f1fb305ae285bb03bf325a\n",
            "Data columns (total 5 columns):\n",
            "imp_cons                20120 non-null float64\n",
            "margin_gross_pow_ele    20105 non-null float64\n",
            "margin_net_pow_ele      20105 non-null float64\n",
            "net_margin              20102 non-null float64\n",
            "pow_max                 20116 non-null float64\n",
            "dtypes: float64(5)\n",
            "memory usage: 1.5+ MB\n"
          ],
          "name": "stdout"
        },
        {
          "output_type": "execute_result",
          "data": {
            "text/html": [
              "<div>\n",
              "<style scoped>\n",
              "    .dataframe tbody tr th:only-of-type {\n",
              "        vertical-align: middle;\n",
              "    }\n",
              "\n",
              "    .dataframe tbody tr th {\n",
              "        vertical-align: top;\n",
              "    }\n",
              "\n",
              "    .dataframe thead th {\n",
              "        text-align: right;\n",
              "    }\n",
              "</style>\n",
              "<table border=\"1\" class=\"dataframe\">\n",
              "  <thead>\n",
              "    <tr style=\"text-align: right;\">\n",
              "      <th></th>\n",
              "      <th>imp_cons</th>\n",
              "      <th>margin_gross_pow_ele</th>\n",
              "      <th>margin_net_pow_ele</th>\n",
              "      <th>net_margin</th>\n",
              "      <th>pow_max</th>\n",
              "    </tr>\n",
              "  </thead>\n",
              "  <tbody>\n",
              "    <tr>\n",
              "      <th>0002203ffbb812588b632b9e628cc38d</th>\n",
              "      <td>40.78</td>\n",
              "      <td>43.08</td>\n",
              "      <td>43.08</td>\n",
              "      <td>81.42</td>\n",
              "      <td>17.250</td>\n",
              "    </tr>\n",
              "    <tr>\n",
              "      <th>000381698491fec6983d55828fe5ada6</th>\n",
              "      <td>2146.41</td>\n",
              "      <td>-30.84</td>\n",
              "      <td>-30.84</td>\n",
              "      <td>1485.32</td>\n",
              "      <td>200.000</td>\n",
              "    </tr>\n",
              "    <tr>\n",
              "      <th>0004351ebdd665e6ee664792efc4fd13</th>\n",
              "      <td>0.00</td>\n",
              "      <td>24.42</td>\n",
              "      <td>24.42</td>\n",
              "      <td>61.58</td>\n",
              "      <td>13.200</td>\n",
              "    </tr>\n",
              "    <tr>\n",
              "      <th>000861c9aa2a0784b8d83f8b5b95d010</th>\n",
              "      <td>122.01</td>\n",
              "      <td>15.90</td>\n",
              "      <td>15.90</td>\n",
              "      <td>224.64</td>\n",
              "      <td>15.001</td>\n",
              "    </tr>\n",
              "    <tr>\n",
              "      <th>0010bcc39e42b3c2131ed2ce55246e3c</th>\n",
              "      <td>213.76</td>\n",
              "      <td>38.58</td>\n",
              "      <td>38.58</td>\n",
              "      <td>81.61</td>\n",
              "      <td>13.856</td>\n",
              "    </tr>\n",
              "    <tr>\n",
              "      <th>0010ee3855fdea87602a5b7aba8e42de</th>\n",
              "      <td>1533.07</td>\n",
              "      <td>-2.80</td>\n",
              "      <td>-2.80</td>\n",
              "      <td>897.08</td>\n",
              "      <td>33.000</td>\n",
              "    </tr>\n",
              "    <tr>\n",
              "      <th>00114d74e963e47177db89bc70108537</th>\n",
              "      <td>0.00</td>\n",
              "      <td>29.76</td>\n",
              "      <td>29.76</td>\n",
              "      <td>157.99</td>\n",
              "      <td>13.200</td>\n",
              "    </tr>\n",
              "    <tr>\n",
              "      <th>00126c87cf78d7604278f0a9adeb689e</th>\n",
              "      <td>642.89</td>\n",
              "      <td>-4.41</td>\n",
              "      <td>-4.41</td>\n",
              "      <td>700.71</td>\n",
              "      <td>70.000</td>\n",
              "    </tr>\n",
              "    <tr>\n",
              "      <th>0013f326a839a2f6ad87a1859952d227</th>\n",
              "      <td>195.20</td>\n",
              "      <td>30.00</td>\n",
              "      <td>30.00</td>\n",
              "      <td>341.58</td>\n",
              "      <td>20.000</td>\n",
              "    </tr>\n",
              "    <tr>\n",
              "      <th>00184e957277eeef733a7b563fdabd06</th>\n",
              "      <td>798.16</td>\n",
              "      <td>29.76</td>\n",
              "      <td>29.76</td>\n",
              "      <td>184.06</td>\n",
              "      <td>13.200</td>\n",
              "    </tr>\n",
              "  </tbody>\n",
              "</table>\n",
              "</div>"
            ],
            "text/plain": [
              "                                  imp_cons  margin_gross_pow_ele  \\\n",
              "0002203ffbb812588b632b9e628cc38d     40.78                 43.08   \n",
              "000381698491fec6983d55828fe5ada6   2146.41                -30.84   \n",
              "0004351ebdd665e6ee664792efc4fd13      0.00                 24.42   \n",
              "000861c9aa2a0784b8d83f8b5b95d010    122.01                 15.90   \n",
              "0010bcc39e42b3c2131ed2ce55246e3c    213.76                 38.58   \n",
              "0010ee3855fdea87602a5b7aba8e42de   1533.07                 -2.80   \n",
              "00114d74e963e47177db89bc70108537      0.00                 29.76   \n",
              "00126c87cf78d7604278f0a9adeb689e    642.89                 -4.41   \n",
              "0013f326a839a2f6ad87a1859952d227    195.20                 30.00   \n",
              "00184e957277eeef733a7b563fdabd06    798.16                 29.76   \n",
              "\n",
              "                                  margin_net_pow_ele  net_margin  pow_max  \n",
              "0002203ffbb812588b632b9e628cc38d               43.08       81.42   17.250  \n",
              "000381698491fec6983d55828fe5ada6              -30.84     1485.32  200.000  \n",
              "0004351ebdd665e6ee664792efc4fd13               24.42       61.58   13.200  \n",
              "000861c9aa2a0784b8d83f8b5b95d010               15.90      224.64   15.001  \n",
              "0010bcc39e42b3c2131ed2ce55246e3c               38.58       81.61   13.856  \n",
              "0010ee3855fdea87602a5b7aba8e42de               -2.80      897.08   33.000  \n",
              "00114d74e963e47177db89bc70108537               29.76      157.99   13.200  \n",
              "00126c87cf78d7604278f0a9adeb689e               -4.41      700.71   70.000  \n",
              "0013f326a839a2f6ad87a1859952d227               30.00      341.58   20.000  \n",
              "00184e957277eeef733a7b563fdabd06               29.76      184.06   13.200  "
            ]
          },
          "metadata": {
            "tags": []
          },
          "execution_count": 239
        }
      ]
    },
    {
      "metadata": {
        "id": "hB4ohvnBM0xQ",
        "colab_type": "code",
        "colab": {
          "base_uri": "https://localhost:8080/",
          "height": 213
        },
        "outputId": "c59dcc5a-0012-4330-8664-db6a40ac98d6"
      },
      "cell_type": "code",
      "source": [
        "for col in other_cols:\n",
        "  feature = col\n",
        "\n",
        "  print('#nulls out of 16096 for {}:'.format(feature),sum(model_data[feature].isnull()))\n",
        "  print('#zeros out of 16096 for {}:'.format(feature),sum((model_data[feature]==0)))\n",
        "\n",
        "  model_data['missing_'+feature] = model_data[feature].isnull()\n",
        "  model_data['zero_'+feature] = (model_data[feature]==0)\n",
        "  \n",
        "  col_median = model_data[feature].median()\n",
        "\n",
        "  model_data[feature] = model_data[feature].replace(to_replace=0, value=col_median)\n",
        "  model_data[feature] = model_data[feature].fillna(col_median)"
      ],
      "execution_count": 240,
      "outputs": [
        {
          "output_type": "stream",
          "text": [
            "#nulls out of 16096 for imp_cons: 0\n",
            "#zeros out of 16096 for imp_cons: 8188\n",
            "#nulls out of 16096 for margin_gross_pow_ele: 15\n",
            "#zeros out of 16096 for margin_gross_pow_ele: 226\n",
            "#nulls out of 16096 for margin_net_pow_ele: 15\n",
            "#zeros out of 16096 for margin_net_pow_ele: 214\n",
            "#nulls out of 16096 for net_margin: 18\n",
            "#zeros out of 16096 for net_margin: 251\n",
            "#nulls out of 16096 for pow_max: 4\n",
            "#zeros out of 16096 for pow_max: 1\n"
          ],
          "name": "stdout"
        }
      ]
    },
    {
      "metadata": {
        "id": "h2rCtpkdstYo",
        "colab_type": "text"
      },
      "cell_type": "markdown",
      "source": [
        "## SEPARATING INTO MODEL & SUBMISSION"
      ]
    },
    {
      "metadata": {
        "id": "Zjx5ZYD_s3Vq",
        "colab_type": "code",
        "colab": {}
      },
      "cell_type": "code",
      "source": [
        "model_data_train = model_data[model_data.train_or_test == 'train'].drop('train_or_test',axis=1)\n",
        "model_data_submission = model_data[model_data.train_or_test == 'test'].drop('train_or_test',axis=1)"
      ],
      "execution_count": 0,
      "outputs": []
    },
    {
      "metadata": {
        "id": "_ZsnAlN6Zlcu",
        "colab_type": "text"
      },
      "cell_type": "markdown",
      "source": [
        "# DATA VIZ"
      ]
    },
    {
      "metadata": {
        "id": "ZE007VSJ3cZZ",
        "colab_type": "code",
        "colab": {
          "base_uri": "https://localhost:8080/",
          "height": 699
        },
        "outputId": "cf5be564-ce64-42ad-d47e-4f895c057132"
      },
      "cell_type": "code",
      "source": [
        "# Get initial feature importances\n",
        "\n",
        "scaled_data = pd.DataFrame(data=StandardScaler().fit_transform(model_data_train), \n",
        "                           index=model_data_train.index, \n",
        "                           columns=model_data_train.columns)\n",
        "\n",
        "rfc = RandomForestClassifier()\n",
        "rfc.fit(scaled_data, target)\n",
        "\n",
        "feature_importances = pd.DataFrame(rfc.feature_importances_,\n",
        "                                   index = scaled_data.columns,\n",
        "                                   columns=['importance']).sort_values('importance',ascending=False)\n",
        "\n",
        "print(feature_importances.head(10),'\\n')\n",
        "\n",
        "# feature = 'forecast_meter_rent_12m'\n",
        "features = list(feature_importances.index)[:10]\n",
        "\n",
        "plt.figure(figsize=(12,6))\n",
        "sns.boxplot(scaled_data[features], \n",
        "            showfliers=False, \n",
        "            vert=False);"
      ],
      "execution_count": 242,
      "outputs": [
        {
          "output_type": "stream",
          "text": [
            "                         importance\n",
            "cons_12m                   0.051079\n",
            "margin_gross_pow_ele       0.048471\n",
            "forecast_cons_12m          0.046238\n",
            "net_margin                 0.045474\n",
            "margin_net_pow_ele         0.043601\n",
            "forecast_meter_rent_12m    0.042916\n",
            "cons_last_month            0.039879\n",
            "mean_price_p1_var          0.032533\n",
            "imp_cons                   0.030441\n",
            "pow_max                    0.029483 \n",
            "\n"
          ],
          "name": "stdout"
        },
        {
          "output_type": "stream",
          "text": [
            "/usr/local/lib/python3.6/dist-packages/seaborn/categorical.py:2171: UserWarning: The boxplot API has been changed. Attempting to adjust your arguments for the new API (which might not work). Please update your code. See the version 0.6 release notes for more info.\n",
            "  warnings.warn(msg, UserWarning)\n",
            "/usr/local/lib/python3.6/dist-packages/seaborn/categorical.py:454: FutureWarning: remove_na is deprecated and is a private function. Do not use.\n",
            "  box_data = remove_na(group_data)\n"
          ],
          "name": "stderr"
        },
        {
          "output_type": "display_data",
          "data": {
            "image/png": "[encoded data removed]",
            "text/plain": [
              "<matplotlib.figure.Figure at 0x7ff40e584e80>"
            ]
          },
          "metadata": {
            "tags": []
          }
        }
      ]
    },
    {
      "metadata": {
        "id": "bWBgvwbERnd8",
        "colab_type": "code",
        "colab": {
          "base_uri": "https://localhost:8080/",
          "height": 324
        },
        "outputId": "932c1473-4947-4573-8943-ef45d220216e"
      },
      "cell_type": "code",
      "source": [
        "pca_2d = PCA(n_components=2,random_state=42)\n",
        "twodim_pca_data = pd.DataFrame(data=pca_2d.fit_transform(scaled_data),\n",
        "                               index=scaled_data.index,\n",
        "                               columns=['x1','x2'])\n",
        "two_dim_viz_df = pd.concat([twodim_pca_data,target], axis=1)\n",
        "\n",
        "two_dim_viz_df.plot.scatter('x1','x2',c='churn',alpha=0.2,cmap='RdYlGn');"
      ],
      "execution_count": 243,
      "outputs": [
        {
          "output_type": "display_data",
          "data": {
            "image/png": "[encoded data removed]",
            "text/plain": [
              "<matplotlib.figure.Figure at 0x7ff40e584a20>"
            ]
          },
          "metadata": {
            "tags": []
          }
        }
      ]
    },
    {
      "metadata": {
        "id": "Oi3jXxfdVvYQ",
        "colab_type": "code",
        "colab": {
          "base_uri": "https://localhost:8080/",
          "height": 341
        },
        "outputId": "5d93d841-2944-4a0f-abf3-8666c6b0114a"
      },
      "cell_type": "code",
      "source": [
        "viz_data = pd.concat([model_data_train,target], axis=1).groupby('year_date_first_activ')['churn'].mean().loc[2008:2013]\n",
        "\n",
        "viz_data.plot(kind='bar',\n",
        "              title='Proportion churn by year of date of first contract',\n",
        "              rot=0);\n",
        "plt.ylabel('Proportion who churn \\n in a given year');"
      ],
      "execution_count": 244,
      "outputs": [
        {
          "output_type": "display_data",
          "data": {
            "image/png": "[encoded data removed]",
            "text/plain": [
              "<matplotlib.figure.Figure at 0x7ff40e0a3978>"
            ]
          },
          "metadata": {
            "tags": []
          }
        }
      ]
    },
    {
      "metadata": {
        "id": "nqWJ8UxcB9-p",
        "colab_type": "text"
      },
      "cell_type": "markdown",
      "source": [
        "# MODELLING"
      ]
    },
    {
      "metadata": {
        "id": "bZW9-Fx12DHG",
        "colab_type": "code",
        "colab": {}
      },
      "cell_type": "code",
      "source": [
        "# train_test_split\n",
        "X_train, X_test, y_train, y_test = train_test_split(model_data_train, \n",
        "                                                    target, \n",
        "                                                    test_size=0.2, \n",
        "                                                    random_state=42)\n",
        "\n",
        "# withold 25% of training set for validation of hyperparameters\n",
        "validation_threshold = round(len(X_train)*3/4)\n",
        "X_val = X_train.iloc[validation_threshold:]\n",
        "y_val = y_train[validation_threshold:]\n",
        "\n",
        "# make X_train & y_train exclude validation data\n",
        "X_train = X_train.iloc[:validation_threshold]\n",
        "y_train = y_train[:validation_threshold]"
      ],
      "execution_count": 0,
      "outputs": []
    },
    {
      "metadata": {
        "id": "fS_vIvBG57ad",
        "colab_type": "text"
      },
      "cell_type": "markdown",
      "source": [
        "## Basic Models"
      ]
    },
    {
      "metadata": {
        "id": "RTfqpHaeu6SK",
        "colab_type": "code",
        "colab": {
          "base_uri": "https://localhost:8080/",
          "height": 680
        },
        "outputId": "aa8005a8-6824-4275-e261-835ec943ea1f"
      },
      "cell_type": "code",
      "source": [
        "# no optimisation, just to see basic accuracy\n",
        "logreg = LogisticRegression(random_state=42)\n",
        "logreg.fit(X_train,y_train)\n",
        "# print('\\n')\n",
        "\n",
        "probs_train = logreg.predict_proba(X_train)\n",
        "probs_test = logreg.predict_proba(X_test)\n",
        "\n",
        "print('Basic logreg training roc_auc_score:', roc_auc_score(y_train,probs_train[:,1]))\n",
        "print('Basic logreg test roc_auc_score:', roc_auc_score(y_test,probs_test[:,1]))\n",
        "\n",
        "skplt.metrics.plot_roc(y_train,probs_train, title='LogReg Train ROC');\n",
        "skplt.metrics.plot_roc(y_test,probs_test, title='LogReg Test ROC');"
      ],
      "execution_count": 246,
      "outputs": [
        {
          "output_type": "stream",
          "text": [
            "Basic logreg training roc_auc_score: 0.6221212283379558\n",
            "Basic logreg test roc_auc_score: 0.6090502530304813\n"
          ],
          "name": "stdout"
        },
        {
          "output_type": "display_data",
          "data": {
            "image/png": "[encoded data removed]",
            "text/plain": [
              "<matplotlib.figure.Figure at 0x7ff4162e5da0>"
            ]
          },
          "metadata": {
            "tags": []
          }
        },
        {
          "output_type": "display_data",
          "data": {
            "image/png": "[encoded data removed]",
            "text/plain": [
              "<matplotlib.figure.Figure at 0x7ff40db167b8>"
            ]
          },
          "metadata": {
            "tags": []
          }
        }
      ]
    },
    {
      "metadata": {
        "id": "laAmwsae5_YH",
        "colab_type": "code",
        "colab": {
          "base_uri": "https://localhost:8080/",
          "height": 680
        },
        "outputId": "a3d9ce98-fc7b-416c-f8eb-02a4fe677e8a"
      },
      "cell_type": "code",
      "source": [
        "# no optimisation, just to see basic accuracy\n",
        "forest = RandomForestClassifier(random_state=42,\n",
        "                                n_estimators=100,\n",
        "                                max_depth=10)\n",
        "forest.fit(X_train,y_train)\n",
        "# print('\\n')\n",
        "\n",
        "probs_train = forest.predict_proba(X_train)\n",
        "probs_test = forest.predict_proba(X_test)\n",
        "\n",
        "print('Basic RandomForest training roc_auc_score:', roc_auc_score(y_train,probs_train[:,1]))\n",
        "print('Basic RandomForest test roc_auc_score:', roc_auc_score(y_test,probs_test[:,1]))\n",
        "\n",
        "skplt.metrics.plot_roc(y_train,probs_train, title='RandomForest Train ROC');\n",
        "skplt.metrics.plot_roc(y_test,probs_test, title='RandomForest Test ROC');"
      ],
      "execution_count": 247,
      "outputs": [
        {
          "output_type": "stream",
          "text": [
            "Basic RandomForest training roc_auc_score: 0.8877980566982484\n",
            "Basic RandomForest test roc_auc_score: 0.6853507120160056\n"
          ],
          "name": "stdout"
        },
        {
          "output_type": "display_data",
          "data": {
            "image/png": "[encoded data removed]",
            "text/plain": [
              "<matplotlib.figure.Figure at 0x7ff40dd6bf98>"
            ]
          },
          "metadata": {
            "tags": []
          }
        },
        {
          "output_type": "display_data",
          "data": {
            "image/png": "[encoded data removed]",
            "text/plain": [
              "<matplotlib.figure.Figure at 0x7ff40d992080>"
            ]
          },
          "metadata": {
            "tags": []
          }
        }
      ]
    },
    {
      "metadata": {
        "id": "a2Io6zql8VRH",
        "colab_type": "text"
      },
      "cell_type": "markdown",
      "source": [
        "## Feature Scaling & Selection"
      ]
    },
    {
      "metadata": {
        "id": "0flbXcIa8w8l",
        "colab_type": "code",
        "colab": {}
      },
      "cell_type": "code",
      "source": [
        "features_pipe = Pipeline([\n",
        "    ('scaler', StandardScaler()),\n",
        "    ('polyFeat', PolynomialFeatures(degree=2, \n",
        "                                    include_bias=False)),\n",
        "    ('pca', PCA(n_components=50, \n",
        "                random_state=42))\n",
        "])\n",
        "\n",
        "X_train = features_pipe.fit_transform(X_train)\n",
        "X_val = features_pipe.transform(X_val)\n",
        "X_test = features_pipe.transform(X_test)"
      ],
      "execution_count": 0,
      "outputs": []
    },
    {
      "metadata": {
        "id": "6U7Rcpb_0Fbu",
        "colab_type": "text"
      },
      "cell_type": "markdown",
      "source": [
        "## K-Nearest Neighbors"
      ]
    },
    {
      "metadata": {
        "id": "MMuFkj1NzxqV",
        "colab_type": "code",
        "colab": {}
      },
      "cell_type": "code",
      "source": [
        "# neighbors_params = [1,2,4,7,11,16,22,29,37,46,56,67]\n",
        "# knn_train_scores = []\n",
        "# knn_val_scores = []\n",
        "\n",
        "# for k in neighbors_params:\n",
        "#   knn = KNeighborsClassifier(n_neighbors=k)\n",
        "#   knn.fit(X_train,y_train)\n",
        "#   # print('\\n')\n",
        "  \n",
        "#   probs_train = knn.predict_proba(X_train)\n",
        "#   probs_val = knn.predict_proba(X_val)\n",
        "  \n",
        "#   knn_train_scores.append(roc_auc_score(y_train,probs_train[:,1]))\n",
        "#   knn_val_scores.append(roc_auc_score(y_val,probs_val[:,1]))"
      ],
      "execution_count": 0,
      "outputs": []
    },
    {
      "metadata": {
        "id": "flOSj2eS6T8H",
        "colab_type": "code",
        "colab": {
          "base_uri": "https://localhost:8080/",
          "height": 321
        },
        "outputId": "2115caa1-0faa-4e21-9861-815e6974e593"
      },
      "cell_type": "code",
      "source": [
        "knn_scores_df = pd.DataFrame(data={'train':knn_train_scores,\n",
        "                                   'val':knn_val_scores},\n",
        "                             index=neighbors_params)\n",
        "knn_scores_df.plot(title='KNN roc_auc_score for different k');\n",
        "plt.xlabel('#neighbors');\n",
        "plt.ylabel('roc_auc_score');"
      ],
      "execution_count": 250,
      "outputs": [
        {
          "output_type": "display_data",
          "data": {
            "image/png": "[encoded data removed]",
            "text/plain": [
              "<matplotlib.figure.Figure at 0x7ff40d647320>"
            ]
          },
          "metadata": {
            "tags": []
          }
        }
      ]
    },
    {
      "metadata": {
        "id": "y05tN7gu54OI",
        "colab_type": "text"
      },
      "cell_type": "markdown",
      "source": [
        "## Random Forest"
      ]
    },
    {
      "metadata": {
        "id": "Jf_6JNWM8OOh",
        "colab_type": "code",
        "colab": {}
      },
      "cell_type": "code",
      "source": [
        "# tree_estimators_params = [int(round(n)) for n in np.logspace(0,3,num=4)]\n",
        "# tree_depth_params = [int(round(depth)) for depth in np.logspace(0.5,2,num=4)]\n",
        "\n",
        "# tree_scores_df = pd.DataFrame(columns=['n_estimators',\n",
        "#                                        'max_depth',\n",
        "#                                        'train_score',\n",
        "#                                        'val_score'])\n",
        "\n",
        "# for n in tree_estimators_params:\n",
        "#   for depth in tree_depth_params:\n",
        "#     forest = RandomForestClassifier(random_state=42,\n",
        "#                                     n_estimators=n,\n",
        "#                                     max_depth=depth)\n",
        "#     forest.fit(X_train,y_train)\n",
        "\n",
        "#     probs_train = forest.predict_proba(X_train)\n",
        "#     probs_val = forest.predict_proba(X_val)\n",
        "    \n",
        "#     tree_scores_df = tree_scores_df.append(\n",
        "#       {'n_estimators':n,\n",
        "#        'max_depth':depth,\n",
        "#        'train_score':roc_auc_score(y_train,probs_train[:,1]),\n",
        "#        'val_score':roc_auc_score(y_val,probs_val[:,1])\n",
        "#       },\n",
        "#       ignore_index=True\n",
        "#     )"
      ],
      "execution_count": 0,
      "outputs": []
    },
    {
      "metadata": {
        "id": "L7MUN0oPfqRN",
        "colab_type": "code",
        "colab": {
          "base_uri": "https://localhost:8080/",
          "height": 361
        },
        "outputId": "d4f36f00-d187-4aec-a616-ca93b63aa752"
      },
      "cell_type": "code",
      "source": [
        "sns.heatmap(tree_scores_df.pivot_table(values='val_score',index='n_estimators',columns='max_depth'),\n",
        "            annot=True);\n",
        "plt.title('Validation score for two key hyperparams \\n for Random Forest')"
      ],
      "execution_count": 252,
      "outputs": [
        {
          "output_type": "execute_result",
          "data": {
            "text/plain": [
              "<matplotlib.axes._subplots.AxesSubplot at 0x7ff40dadcda0>"
            ]
          },
          "metadata": {
            "tags": []
          },
          "execution_count": 252
        },
        {
          "output_type": "execute_result",
          "data": {
            "text/plain": [
              "Text(0.5,1,'Validation score for two key hyperparams \\n for Random Forest')"
            ]
          },
          "metadata": {
            "tags": []
          },
          "execution_count": 252
        },
        {
          "output_type": "display_data",
          "data": {
            "image/png": "[encoded data removed]",
            "text/plain": [
              "<matplotlib.figure.Figure at 0x7ff40d042c50>"
            ]
          },
          "metadata": {
            "tags": []
          }
        }
      ]
    },
    {
      "metadata": {
        "id": "b1gyXk8h5QLq",
        "colab_type": "text"
      },
      "cell_type": "markdown",
      "source": [
        "## Class Imbalance"
      ]
    },
    {
      "metadata": {
        "id": "aKUfB5OlA-KT",
        "colab_type": "code",
        "colab": {
          "base_uri": "https://localhost:8080/",
          "height": 1143
        },
        "outputId": "47c8369c-3cb8-4479-fc9f-c403f7c8d1fe"
      },
      "cell_type": "code",
      "source": [
        "# tree_weighting_params = [i**2 for i in range(1,13)]\n",
        "\n",
        "# tree_weighting_scores_df = pd.DataFrame(columns=['weighting',\n",
        "#                                                  'train_score',\n",
        "#                                                  'val_score',\n",
        "#                                                  'val_recall'])\n",
        "\n",
        "# for weight in tree_weighting_params:\n",
        "#   forest = RandomForestClassifier(random_state=42,\n",
        "#                                   n_estimators=100,\n",
        "#                                   max_depth=32,\n",
        "#                                   class_weight={1:weight})\n",
        "#   forest.fit(X_train,y_train)\n",
        "\n",
        "#   probs_train = forest.predict_proba(X_train)\n",
        "#   probs_val = forest.predict_proba(X_val)\n",
        "\n",
        "#   tree_weighting_scores_df = tree_weighting_scores_df.append(\n",
        "#     {'weighting':weight,\n",
        "#      'train_score':roc_auc_score(y_train,probs_train[:,1]),\n",
        "#      'val_score':roc_auc_score(y_val,probs_val[:,1]),\n",
        "#      'val_recall':recall_score(y_val,forest.predict(X_val))\n",
        "#     },\n",
        "#     ignore_index=True\n",
        "#   )"
      ],
      "execution_count": 309,
      "outputs": [
        {
          "output_type": "execute_result",
          "data": {
            "text/plain": [
              "RandomForestClassifier(bootstrap=True, class_weight={1: 1}, criterion='gini',\n",
              "            max_depth=32, max_features='auto', max_leaf_nodes=None,\n",
              "            min_impurity_decrease=0.0, min_impurity_split=None,\n",
              "            min_samples_leaf=1, min_samples_split=2,\n",
              "            min_weight_fraction_leaf=0.0, n_estimators=100, n_jobs=1,\n",
              "            oob_score=False, random_state=42, verbose=0, warm_start=False)"
            ]
          },
          "metadata": {
            "tags": []
          },
          "execution_count": 309
        },
        {
          "output_type": "execute_result",
          "data": {
            "text/plain": [
              "RandomForestClassifier(bootstrap=True, class_weight={1: 4}, criterion='gini',\n",
              "            max_depth=32, max_features='auto', max_leaf_nodes=None,\n",
              "            min_impurity_decrease=0.0, min_impurity_split=None,\n",
              "            min_samples_leaf=1, min_samples_split=2,\n",
              "            min_weight_fraction_leaf=0.0, n_estimators=100, n_jobs=1,\n",
              "            oob_score=False, random_state=42, verbose=0, warm_start=False)"
            ]
          },
          "metadata": {
            "tags": []
          },
          "execution_count": 309
        },
        {
          "output_type": "execute_result",
          "data": {
            "text/plain": [
              "RandomForestClassifier(bootstrap=True, class_weight={1: 9}, criterion='gini',\n",
              "            max_depth=32, max_features='auto', max_leaf_nodes=None,\n",
              "            min_impurity_decrease=0.0, min_impurity_split=None,\n",
              "            min_samples_leaf=1, min_samples_split=2,\n",
              "            min_weight_fraction_leaf=0.0, n_estimators=100, n_jobs=1,\n",
              "            oob_score=False, random_state=42, verbose=0, warm_start=False)"
            ]
          },
          "metadata": {
            "tags": []
          },
          "execution_count": 309
        },
        {
          "output_type": "execute_result",
          "data": {
            "text/plain": [
              "RandomForestClassifier(bootstrap=True, class_weight={1: 16}, criterion='gini',\n",
              "            max_depth=32, max_features='auto', max_leaf_nodes=None,\n",
              "            min_impurity_decrease=0.0, min_impurity_split=None,\n",
              "            min_samples_leaf=1, min_samples_split=2,\n",
              "            min_weight_fraction_leaf=0.0, n_estimators=100, n_jobs=1,\n",
              "            oob_score=False, random_state=42, verbose=0, warm_start=False)"
            ]
          },
          "metadata": {
            "tags": []
          },
          "execution_count": 309
        },
        {
          "output_type": "execute_result",
          "data": {
            "text/plain": [
              "RandomForestClassifier(bootstrap=True, class_weight={1: 25}, criterion='gini',\n",
              "            max_depth=32, max_features='auto', max_leaf_nodes=None,\n",
              "            min_impurity_decrease=0.0, min_impurity_split=None,\n",
              "            min_samples_leaf=1, min_samples_split=2,\n",
              "            min_weight_fraction_leaf=0.0, n_estimators=100, n_jobs=1,\n",
              "            oob_score=False, random_state=42, verbose=0, warm_start=False)"
            ]
          },
          "metadata": {
            "tags": []
          },
          "execution_count": 309
        },
        {
          "output_type": "execute_result",
          "data": {
            "text/plain": [
              "RandomForestClassifier(bootstrap=True, class_weight={1: 36}, criterion='gini',\n",
              "            max_depth=32, max_features='auto', max_leaf_nodes=None,\n",
              "            min_impurity_decrease=0.0, min_impurity_split=None,\n",
              "            min_samples_leaf=1, min_samples_split=2,\n",
              "            min_weight_fraction_leaf=0.0, n_estimators=100, n_jobs=1,\n",
              "            oob_score=False, random_state=42, verbose=0, warm_start=False)"
            ]
          },
          "metadata": {
            "tags": []
          },
          "execution_count": 309
        },
        {
          "output_type": "execute_result",
          "data": {
            "text/plain": [
              "RandomForestClassifier(bootstrap=True, class_weight={1: 49}, criterion='gini',\n",
              "            max_depth=32, max_features='auto', max_leaf_nodes=None,\n",
              "            min_impurity_decrease=0.0, min_impurity_split=None,\n",
              "            min_samples_leaf=1, min_samples_split=2,\n",
              "            min_weight_fraction_leaf=0.0, n_estimators=100, n_jobs=1,\n",
              "            oob_score=False, random_state=42, verbose=0, warm_start=False)"
            ]
          },
          "metadata": {
            "tags": []
          },
          "execution_count": 309
        },
        {
          "output_type": "execute_result",
          "data": {
            "text/plain": [
              "RandomForestClassifier(bootstrap=True, class_weight={1: 64}, criterion='gini',\n",
              "            max_depth=32, max_features='auto', max_leaf_nodes=None,\n",
              "            min_impurity_decrease=0.0, min_impurity_split=None,\n",
              "            min_samples_leaf=1, min_samples_split=2,\n",
              "            min_weight_fraction_leaf=0.0, n_estimators=100, n_jobs=1,\n",
              "            oob_score=False, random_state=42, verbose=0, warm_start=False)"
            ]
          },
          "metadata": {
            "tags": []
          },
          "execution_count": 309
        },
        {
          "output_type": "execute_result",
          "data": {
            "text/plain": [
              "RandomForestClassifier(bootstrap=True, class_weight={1: 81}, criterion='gini',\n",
              "            max_depth=32, max_features='auto', max_leaf_nodes=None,\n",
              "            min_impurity_decrease=0.0, min_impurity_split=None,\n",
              "            min_samples_leaf=1, min_samples_split=2,\n",
              "            min_weight_fraction_leaf=0.0, n_estimators=100, n_jobs=1,\n",
              "            oob_score=False, random_state=42, verbose=0, warm_start=False)"
            ]
          },
          "metadata": {
            "tags": []
          },
          "execution_count": 309
        },
        {
          "output_type": "execute_result",
          "data": {
            "text/plain": [
              "RandomForestClassifier(bootstrap=True, class_weight={1: 100},\n",
              "            criterion='gini', max_depth=32, max_features='auto',\n",
              "            max_leaf_nodes=None, min_impurity_decrease=0.0,\n",
              "            min_impurity_split=None, min_samples_leaf=1,\n",
              "            min_samples_split=2, min_weight_fraction_leaf=0.0,\n",
              "            n_estimators=100, n_jobs=1, oob_score=False, random_state=42,\n",
              "            verbose=0, warm_start=False)"
            ]
          },
          "metadata": {
            "tags": []
          },
          "execution_count": 309
        },
        {
          "output_type": "execute_result",
          "data": {
            "text/plain": [
              "RandomForestClassifier(bootstrap=True, class_weight={1: 121},\n",
              "            criterion='gini', max_depth=32, max_features='auto',\n",
              "            max_leaf_nodes=None, min_impurity_decrease=0.0,\n",
              "            min_impurity_split=None, min_samples_leaf=1,\n",
              "            min_samples_split=2, min_weight_fraction_leaf=0.0,\n",
              "            n_estimators=100, n_jobs=1, oob_score=False, random_state=42,\n",
              "            verbose=0, warm_start=False)"
            ]
          },
          "metadata": {
            "tags": []
          },
          "execution_count": 309
        },
        {
          "output_type": "execute_result",
          "data": {
            "text/plain": [
              "RandomForestClassifier(bootstrap=True, class_weight={1: 144},\n",
              "            criterion='gini', max_depth=32, max_features='auto',\n",
              "            max_leaf_nodes=None, min_impurity_decrease=0.0,\n",
              "            min_impurity_split=None, min_samples_leaf=1,\n",
              "            min_samples_split=2, min_weight_fraction_leaf=0.0,\n",
              "            n_estimators=100, n_jobs=1, oob_score=False, random_state=42,\n",
              "            verbose=0, warm_start=False)"
            ]
          },
          "metadata": {
            "tags": []
          },
          "execution_count": 309
        }
      ]
    },
    {
      "metadata": {
        "id": "XK5qkvaxC8Rv",
        "colab_type": "code",
        "colab": {
          "base_uri": "https://localhost:8080/",
          "height": 343
        },
        "outputId": "fb4556f6-3f1d-45d0-cf88-e37ac52725bf"
      },
      "cell_type": "code",
      "source": [
        "tree_weighting_scores_df.set_index('weighting').plot(title='Upsampling the churn=1 data to combat \\n class imbalance');\n",
        "plt.xlabel('Weighting on churn=1 class');"
      ],
      "execution_count": 314,
      "outputs": [
        {
          "output_type": "display_data",
          "data": {
            "image/png": "[encoded data removed]",
            "text/plain": [
              "<matplotlib.figure.Figure at 0x7ff40dff89e8>"
            ]
          },
          "metadata": {
            "tags": []
          }
        }
      ]
    },
    {
      "metadata": {
        "id": "1rQaIH8ax_xT",
        "colab_type": "text"
      },
      "cell_type": "markdown",
      "source": [
        "# Submission"
      ]
    },
    {
      "metadata": {
        "id": "iXFjKDGrI0zK",
        "colab_type": "code",
        "colab": {
          "base_uri": "https://localhost:8080/",
          "height": 122
        },
        "outputId": "e767ef30-e1ce-4ae0-b962-4f541b986be4"
      },
      "cell_type": "code",
      "source": [
        "forest = RandomForestClassifier(random_state=42,\n",
        "                                n_estimators=100,\n",
        "                                max_depth=32,\n",
        "                                class_weight={1:5})\n",
        "\n",
        "forest.fit(X_train,y_train)\n",
        "probs_test = forest.predict_proba(X_test)\n",
        "print('\\n', 'Final test roc_auc_score:', roc_auc_score(y_test,probs_test[:,1]))"
      ],
      "execution_count": 318,
      "outputs": [
        {
          "output_type": "execute_result",
          "data": {
            "text/plain": [
              "RandomForestClassifier(bootstrap=True, class_weight={1: 5}, criterion='gini',\n",
              "            max_depth=32, max_features='auto', max_leaf_nodes=None,\n",
              "            min_impurity_decrease=0.0, min_impurity_split=None,\n",
              "            min_samples_leaf=1, min_samples_split=2,\n",
              "            min_weight_fraction_leaf=0.0, n_estimators=100, n_jobs=1,\n",
              "            oob_score=False, random_state=42, verbose=0, warm_start=False)"
            ]
          },
          "metadata": {
            "tags": []
          },
          "execution_count": 318
        },
        {
          "output_type": "stream",
          "text": [
            "Final test roc_auc_score: 0.6285141814758151\n"
          ],
          "name": "stdout"
        }
      ]
    },
    {
      "metadata": {
        "id": "kLLv7KPxyBuU",
        "colab_type": "code",
        "colab": {
          "base_uri": "https://localhost:8080/",
          "height": 122
        },
        "outputId": "0bb3bdb4-3a9d-4183-bd2a-7a5acabcb6ad"
      },
      "cell_type": "code",
      "source": [
        "X_model = features_pipe.fit_transform(model_data_train)\n",
        "X_submission = features_pipe.transform(model_data_submission)\n",
        "\n",
        "forest = RandomForestClassifier(random_state=42,\n",
        "                                n_estimators=100,\n",
        "                                max_depth=32,\n",
        "                                class_weight={1:5})\n",
        "\n",
        "forest.fit(X_model,target)\n",
        "\n",
        "submission_df = pd.DataFrame(\n",
        "    data={'Churn_prediction':forest.predict(X_submission),\n",
        "          'Churn_probability':forest.predict_proba(X_submission)[:,1]\n",
        "         },\n",
        "    index=model_data_submission.index\n",
        ")\n"
      ],
      "execution_count": 319,
      "outputs": [
        {
          "output_type": "execute_result",
          "data": {
            "text/plain": [
              "RandomForestClassifier(bootstrap=True, class_weight={1: 5}, criterion='gini',\n",
              "            max_depth=32, max_features='auto', max_leaf_nodes=None,\n",
              "            min_impurity_decrease=0.0, min_impurity_split=None,\n",
              "            min_samples_leaf=1, min_samples_split=2,\n",
              "            min_weight_fraction_leaf=0.0, n_estimators=100, n_jobs=1,\n",
              "            oob_score=False, random_state=42, verbose=0, warm_start=False)"
            ]
          },
          "metadata": {
            "tags": []
          },
          "execution_count": 319
        }
      ]
    },
    {
      "metadata": {
        "id": "LzOv1yr1MPhR",
        "colab_type": "code",
        "colab": {
          "base_uri": "https://localhost:8080/",
          "height": 195
        },
        "outputId": "9d3037a4-3c52-4567-f1f5-86b591daa64d"
      },
      "cell_type": "code",
      "source": [
        "submission_df.head()"
      ],
      "execution_count": 321,
      "outputs": [
        {
          "output_type": "execute_result",
          "data": {
            "text/html": [
              "<div>\n",
              "<style scoped>\n",
              "    .dataframe tbody tr th:only-of-type {\n",
              "        vertical-align: middle;\n",
              "    }\n",
              "\n",
              "    .dataframe tbody tr th {\n",
              "        vertical-align: top;\n",
              "    }\n",
              "\n",
              "    .dataframe thead th {\n",
              "        text-align: right;\n",
              "    }\n",
              "</style>\n",
              "<table border=\"1\" class=\"dataframe\">\n",
              "  <thead>\n",
              "    <tr style=\"text-align: right;\">\n",
              "      <th></th>\n",
              "      <th>Churn_prediction</th>\n",
              "      <th>Churn_probability</th>\n",
              "    </tr>\n",
              "  </thead>\n",
              "  <tbody>\n",
              "    <tr>\n",
              "      <th>000381698491fec6983d55828fe5ada6</th>\n",
              "      <td>0</td>\n",
              "      <td>0.08</td>\n",
              "    </tr>\n",
              "    <tr>\n",
              "      <th>000861c9aa2a0784b8d83f8b5b95d010</th>\n",
              "      <td>0</td>\n",
              "      <td>0.14</td>\n",
              "    </tr>\n",
              "    <tr>\n",
              "      <th>0032d340d01dce810b28c3e2a5446fcc</th>\n",
              "      <td>0</td>\n",
              "      <td>0.11</td>\n",
              "    </tr>\n",
              "    <tr>\n",
              "      <th>004a743cb630d0540d8016fc6c898786</th>\n",
              "      <td>0</td>\n",
              "      <td>0.09</td>\n",
              "    </tr>\n",
              "    <tr>\n",
              "      <th>007d5d9fbd142235658fe836cfd338fa</th>\n",
              "      <td>0</td>\n",
              "      <td>0.12</td>\n",
              "    </tr>\n",
              "  </tbody>\n",
              "</table>\n",
              "</div>"
            ],
            "text/plain": [
              "                                  Churn_prediction  Churn_probability\n",
              "000381698491fec6983d55828fe5ada6                 0               0.08\n",
              "000861c9aa2a0784b8d83f8b5b95d010                 0               0.14\n",
              "0032d340d01dce810b28c3e2a5446fcc                 0               0.11\n",
              "004a743cb630d0540d8016fc6c898786                 0               0.09\n",
              "007d5d9fbd142235658fe836cfd338fa                 0               0.12"
            ]
          },
          "metadata": {
            "tags": []
          },
          "execution_count": 321
        }
      ]
    },
    {
      "metadata": {
        "id": "E2rLke9-MNlm",
        "colab_type": "code",
        "colab": {}
      },
      "cell_type": "code",
      "source": [
        "# submission_df.to_csv('Powerco_submission_RichardCartwright.csv', index=True)\n",
        "\n",
        "# from google.colab import files\n",
        "# files.download('Powerco_submission_RichardCartwright.csv')"
      ],
      "execution_count": 0,
      "outputs": []
    }
  ]
}