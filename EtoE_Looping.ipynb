{
  "nbformat": 4,
  "nbformat_minor": 0,
  "metadata": {
    "colab": {
      "name": "EtoE Looping.ipynb",
      "version": "0.3.2",
      "provenance": [],
      "collapsed_sections": [
        "m8bAwQm1dmcb",
        "RsH_U2ZCQrA_",
        "NbI4LHIhH0Ai",
        "V7FHVmo1_Bty",
        "CLIE_4k9EVzM",
        "UkdChE-AU1kd",
        "XF1YGZVDdM5P"
      ],
      "include_colab_link": true
    },
    "kernelspec": {
      "name": "python3",
      "display_name": "Python 3"
    },
    "accelerator": "GPU"
  },
  "cells": [
    {
      "cell_type": "markdown",
      "metadata": {
        "id": "view-in-github",
        "colab_type": "text"
      },
      "source": [
        "<a href=\"https://colab.research.google.com/github/richard-cartwright/personal/blob/master/EtoE_Looping.ipynb\" target=\"_parent\"><img src=\"https://colab.research.google.com/assets/colab-badge.svg\" alt=\"Open In Colab\"/></a>"
      ]
    },
    {
      "metadata": {
        "id": "XmQwme3DMIBl",
        "colab_type": "text"
      },
      "cell_type": "markdown",
      "source": [
        "# Packages"
      ]
    },
    {
      "metadata": {
        "id": "lsFrXqL5TBuC",
        "colab_type": "code",
        "colab": {}
      },
      "cell_type": "code",
      "source": [
        "# Install package for reading Excels\n",
        "!pip install xlrd"
      ],
      "execution_count": 0,
      "outputs": []
    },
    {
      "metadata": {
        "scrolled": false,
        "id": "gW6iKziNGi1r",
        "colab_type": "code",
        "colab": {}
      },
      "cell_type": "code",
      "source": [
        "# Basic imports\n",
        "\n",
        "import pandas as pd\n",
        "import numpy as np\n",
        "import matplotlib.pyplot as plt\n",
        "import seaborn as sns\n",
        "\n",
        "import xlrd\n",
        "\n",
        "# Plots inline\n",
        "%matplotlib inline\n",
        "\n",
        "# Setting plotting styles\n",
        "plt.style.use('fivethirtyeight')\n",
        "sns.set_style('white')\n",
        "\n",
        "# Displays all cell's output, not just last output\n",
        "from IPython.core.interactiveshell import InteractiveShell\n",
        "InteractiveShell.ast_node_interactivity = \"all\""
      ],
      "execution_count": 0,
      "outputs": []
    },
    {
      "metadata": {
        "id": "N1nSfE8e66Rg",
        "colab_type": "text"
      },
      "cell_type": "markdown",
      "source": [
        "# Summary\n",
        "This is based on the main E2E file, and is used for the 'looping' process - where UPCs are made to be live and number of live ISRCs adjusts accordingly."
      ]
    },
    {
      "metadata": {
        "id": "hKuyi54hMMtA",
        "colab_type": "text"
      },
      "cell_type": "markdown",
      "source": [
        "# Environment\n",
        "\n",
        "**ALL THESE FILES REQUIRED**\n",
        "\n",
        "The default Python environment is within Google Colab (a Google server). I use Google Drive to store all my files. Therefore, I mount my GDrive to the environment, so I can now retrieve and store files directly with my GDrive.\n",
        "\n",
        "**This environment can be changed**. If you are instead working on your local machine, just ensure you have all the required files and are pointing to the correct path.\n",
        "\n",
        "Original data:\n",
        "- streams per ISRC: ***ISRC_1m.txt***\n",
        "- Apple Music International, whether each ISRC-UPC pair is available on Apple Music for each country: ***UMI_AppleMusicTracks.txt***\n",
        "- Apple Music Global, whether each ISRC-UPC pair is available on Apple Music for each country: ***umgglobal_AppleMusicTracks.txt***\n",
        "- [don't need] DiGS Global Rights data: ***2015to18_digs_rights_allstatus.xlsx, 2010to14_digs_rights_allstatus.xlsx, before2010_digs_rights_allstatus.xlsx***\n",
        "- all UPC_ISRC pairings (4.5mil): ***upcs_isrcs_digs_rights_allstatus.tsv***\n",
        "\n",
        "Derived data:\n",
        "- Boolean, long tables of the Rights data (UPCs): ***rights_2015to18_allcountries.csv, rights_2010to14_allcountries.csv, rights_before2010_allcountries.csv***\n",
        "- Wordy columns, with derived variables, for full rights data: ***rights_wordyinfo.csv***\n",
        "- csv of UPCs to make live: ***UPCs_to_make_live.csv***"
      ]
    },
    {
      "metadata": {
        "id": "Jis6ipZbS3Ev",
        "colab_type": "code",
        "colab": {}
      },
      "cell_type": "code",
      "source": [
        "# Mount GDrive to Colab environment\n",
        "\n",
        "from google.colab import drive\n",
        "drive.mount('/content/drive')"
      ],
      "execution_count": 0,
      "outputs": []
    },
    {
      "metadata": {
        "id": "zQ60k10aA3-6",
        "colab_type": "code",
        "colab": {}
      },
      "cell_type": "code",
      "source": [
        "# # This is so I can save files directly to my GDrive\n",
        "\n",
        "# # Install the PyDrive wrapper & import libraries\n",
        "# !pip install -U -q PyDrive\n",
        "# from pydrive.auth import GoogleAuth\n",
        "# from pydrive.drive import GoogleDrive\n",
        "# from google.colab import auth\n",
        "# from oauth2client.client import GoogleCredentials\n",
        "\n",
        "# # Authenticate and create the PyDrive client.\n",
        "# auth.authenticate_user()\n",
        "# gauth = GoogleAuth()\n",
        "# gauth.credentials = GoogleCredentials.get_application_default()\n",
        "# drive = GoogleDrive(gauth)"
      ],
      "execution_count": 0,
      "outputs": []
    },
    {
      "metadata": {
        "id": "HopKaj4TTNi4",
        "colab_type": "code",
        "colab": {}
      },
      "cell_type": "code",
      "source": [
        "# Unzip zipped folders, does not need to be repeated\n",
        "\n",
        "# !unzip '/content/drive/My Drive/Personal/Colab Notebooks/Universal/Data/umgglobal_Music.zip' -d '/content/drive/My Drive/Personal/Colab Notebooks/Universal/Data/'\n",
        "# !unzip '/content/drive/My Drive/Personal/Colab Notebooks/Universal/Data/International.zip' -d '/content/drive/My Drive/Personal/Colab Notebooks/Universal/Data/'\n",
        "# !unzip '/content/drive/My Drive/Personal/Colab Notebooks/Universal/Data/upcs_isrcs_digs_rights_allstatus2.tsv.zip' -d '/content/drive/My Drive/Personal/Colab Notebooks/Universal/Data/'\n",
        "\n",
        "# !unzip '/content/drive/My Drive/Personal/Colab Notebooks/Universal/Data/formerly EMI and now GLOBAL.zip' -d '/content/drive/My Drive/Personal/Colab Notebooks/Universal/Data/'"
      ],
      "execution_count": 0,
      "outputs": []
    },
    {
      "metadata": {
        "id": "WAt1MxICUB41",
        "colab_type": "code",
        "colab": {}
      },
      "cell_type": "code",
      "source": [
        "# View files in folder\n",
        "!ls '/content/drive/My Drive/Personal/Colab Notebooks/Universal/Data/'\n",
        "\n",
        "# Create path for data\n",
        "path = '/content/drive/My Drive/Personal/Colab Notebooks/Universal/Data/'"
      ],
      "execution_count": 0,
      "outputs": []
    },
    {
      "metadata": {
        "id": "RQP-jqkmcu10",
        "colab_type": "text"
      },
      "cell_type": "markdown",
      "source": [
        "# Define your country"
      ]
    },
    {
      "metadata": {
        "id": "kaxOIicd3_XU",
        "colab_type": "code",
        "colab": {}
      },
      "cell_type": "code",
      "source": [
        "# # Displays list of two-letter country codes to select from\n",
        "\n",
        "sorted([col for col in pd.read_table(path+'UMI_AppleMusicTracks.txt',nrows=5).columns if len(col)==2])"
      ],
      "execution_count": 0,
      "outputs": []
    },
    {
      "metadata": {
        "id": "lopLabredQ1X",
        "colab_type": "code",
        "colab": {}
      },
      "cell_type": "code",
      "source": [
        "# Select the country code you want\n",
        "# Choose only one\n",
        "\n",
        "country_code = 'AU'\n",
        "\n",
        "country_col_dict = {'legal':'{}_legal'.format(country_code),\n",
        "                    'marketing':'{}_marketing'.format(country_code),\n",
        "                    'optin':'{}_optin'.format(country_code),\n",
        "                    'available':'UPC_available_in{}'.format(country_code),\n",
        "                    'category':'category_{}'.format(country_code),\n",
        "                    'prop_onstore':'propISRCs_onstore_{}'.format(country_code)}"
      ],
      "execution_count": 0,
      "outputs": []
    },
    {
      "metadata": {
        "id": "m8bAwQm1dmcb",
        "colab_type": "text"
      },
      "cell_type": "markdown",
      "source": [
        "# Define the UPCs to make live"
      ]
    },
    {
      "metadata": {
        "id": "42LbCc31UerO",
        "colab_type": "code",
        "colab": {}
      },
      "cell_type": "code",
      "source": [
        "# Define the df of UPCs to make live\n",
        "\n",
        "# When there's no other df so code still runs\n",
        "UPCs_to_make_live_df = pd.DataFrame({'UPC':['01','02','03']})\n",
        "\n",
        "# # BE CAREFUL WITH THIS\n",
        "# # Currently this is the 9945 UPCs for GB which are: albums, not duplicates, released before 2018, have legal, have marketing, not opted in, prop_onstore<0.8\n",
        "# UPCs_to_make_live_df = pd.read_csv(path+'UPCs_to_make_live.csv',dtype='str')\n",
        "\n",
        "# This is used in future joins\n",
        "UPCs_to_make_live_df['live_flag'] = True\n",
        "\n",
        "UPCs_to_make_live_df.head(2)\n",
        "UPCs_to_make_live_df.info()"
      ],
      "execution_count": 0,
      "outputs": []
    },
    {
      "metadata": {
        "id": "gT8qbi8kMTld",
        "colab_type": "text"
      },
      "cell_type": "markdown",
      "source": [
        "# Data"
      ]
    },
    {
      "metadata": {
        "id": "RsH_U2ZCQrA_",
        "colab_type": "text"
      },
      "cell_type": "markdown",
      "source": [
        "## Apple tracks data"
      ]
    },
    {
      "metadata": {
        "id": "7TOF0lrPSieV",
        "colab_type": "text"
      },
      "cell_type": "markdown",
      "source": [
        "### Load Apple availability data"
      ]
    },
    {
      "metadata": {
        "id": "ey1Dg9_OeU4v",
        "colab_type": "code",
        "colab": {}
      },
      "cell_type": "code",
      "source": [
        "# All tracks on Apple Music\n",
        "\n",
        "# ---------------------------\n",
        "# INTERNATIONAL: Read in Apple International ISRCs info (only the relevant country)\n",
        "international_apple_df = pd.read_table(path+'UMI_AppleMusicTracks.txt',\n",
        "                                       usecols=['Track_adam_id',\n",
        "                                                'Track_isrc',\n",
        "                                                'Playlist_UPC ',\n",
        "                                                country_code], #only the relevant country\n",
        "                                       dtype={'Track_adam_id':str,\n",
        "                                              'Playlist_UPC':str,\n",
        "                                              country_code:'bool'},\n",
        "                                       low_memory=False)\n",
        "international_apple_df.columns = [col.strip() for col in international_apple_df.columns]\n",
        "international_apple_df.info()\n",
        "\n",
        "# ---------------------------\n",
        "# GLOBAL: Read in Apple Global ISRCs info (only the relevant country)\n",
        "global_apple_df = pd.read_table(path+'umgglobal_AppleMusicTracks.txt',\n",
        "                                usecols=['Track_adam_id',\n",
        "                                         'Track_isrc',\n",
        "                                         'Playlist_UPC ',\n",
        "                                         country_code], #only the relevant country\n",
        "                                dtype={'Track_adam_id':str,\n",
        "                                       'Playlist_UPC':str,\n",
        "                                       country_code:'bool'},\n",
        "                                low_memory=False)\n",
        "global_apple_df.columns = [col.strip() for col in global_apple_df.columns]\n",
        "global_apple_df.info()\n",
        "\n",
        "# ---------------------------\n",
        "# Combine International & Global\n",
        "international_apple_df = pd.concat(\n",
        "    [international_apple_df,\n",
        "     global_apple_df],\n",
        "    ignore_index=True)\n",
        "\n",
        "# Rename columns\n",
        "international_apple_df.rename(columns={'Playlist_UPC':'UPC',\n",
        "                                       'Track_isrc':'ISRC'},\n",
        "                              inplace=True)\n",
        "\n",
        "# Fillna UPCs & ISRCs with 'unknown'\n",
        "international_apple_df['UPC'] = international_apple_df['UPC'].fillna('unknown')\n",
        "international_apple_df['ISRC'] = international_apple_df['ISRC'].fillna('unknown')\n",
        "\n",
        "international_apple_df.info()\n",
        "\n",
        "#---------------------\n",
        "# ISRC-UPC pairs base data from Universal\n",
        "upcs_isrcs_ref_df = pd.read_table(path+'upcs_isrcs_digs_rights_allstatus.tsv',\n",
        "                                  dtype={0:'str'},\n",
        "                                  names=['UPC','ISRC'])\n",
        "upcs_isrcs_ref_df.info()\n",
        "\n",
        "# Combine base data & Apple data\n",
        "international_apple_df = pd.merge(international_apple_df,\n",
        "                                  upcs_isrcs_ref_df,\n",
        "                                  how='outer',\n",
        "                                  on=['UPC','ISRC']).fillna(False)\n",
        "international_apple_df.info()\n",
        "\n",
        "# ---------------------------\n",
        "# Ensure only one row for each UPC-ISRC pair\n",
        "\n",
        "# Groupby UPC-ISRC\n",
        "international_apple_df = international_apple_df.groupby(['UPC','ISRC']).sum().astype('bool').reset_index()\n",
        "international_apple_df.info()"
      ],
      "execution_count": 0,
      "outputs": []
    },
    {
      "metadata": {
        "id": "mDjoxNUCQEhI",
        "colab_type": "code",
        "colab": {}
      },
      "cell_type": "code",
      "source": [
        "# \n",
        "\n",
        "# Incorporate UPCs_to_make_live\n",
        "adjusted_apple_df = international_apple_df.copy()\n",
        "print(adjusted_apple_df[country_code].sum(),'\\n')\n",
        "\n",
        "# Left join with existing df to incorpoate UPCs_to_make_live (flag used as indicator)\n",
        "adjusted_apple_df = pd.merge(adjusted_apple_df,\n",
        "                             UPCs_to_make_live_df,\n",
        "                             how='left',\n",
        "                             on='UPC').fillna({'live_flag':False})\n",
        "adjusted_apple_df.info()\n",
        "\n",
        "# If live_flag False, use existing column. If True, make column=True\n",
        "adjusted_apple_df[country_code] = adjusted_apple_df.apply(lambda row: row[country_code] \n",
        "                                                          if not row['live_flag'] \n",
        "                                                          else True,\n",
        "                                                          axis=1).astype('bool')\n",
        "adjusted_apple_df.drop(columns=['live_flag'],inplace=True)\n",
        "\n",
        "#This sum tests that the UPCs have been incorporated as this should increase\n",
        "print('\\n',adjusted_apple_df[country_code].sum(),'\\n')\n",
        "adjusted_apple_df.info()\n",
        "\n",
        "# ---------------------------\n",
        "# Add in bool ISRC_availablility for each ISRC\n",
        "\n",
        "# Groupby ISRC, so for bool ISRC_availablility for each ISRC (true if ISRC available with any UPC)\n",
        "international_apple_ISRCs_df = adjusted_apple_df.groupby('ISRC').agg({country_code:'sum'}).astype('bool')\n",
        "international_apple_ISRCs_df.rename(columns={country_code:'ISRC_available_in{}'.format(country_code)},\n",
        "                                    inplace=True)\n",
        "international_apple_ISRCs_df.info()\n",
        "\n",
        "# Merge original Apple ISRC table with whether that ISRC is available for any UPC\n",
        "adjusted_apple_df = pd.merge(adjusted_apple_df,\n",
        "                             international_apple_ISRCs_df,\n",
        "                             how='left',\n",
        "                             left_on='ISRC',\n",
        "                             right_index=True)\n",
        "adjusted_apple_df.info()\n",
        "\n",
        "#---------------------\n",
        "# Add in ISRC streams as proxy for popularity\n",
        "\n",
        "# Number of streams per ISRC across all platforms - proxy for popularity\n",
        "isrc_streams_df = pd.read_csv(path+'ISRC_1m.txt')\n",
        "isrc_streams_df.rename(columns={'isrc':'ISRC'},\n",
        "                       inplace=True)\n",
        "isrc_streams_df.info()\n",
        "\n",
        "# Merge ISRC streams onto UPC-ISRCs table, fill total_streams=0 if no matching ISRC available\n",
        "adjusted_apple_df = pd.merge(adjusted_apple_df,\n",
        "                             isrc_streams_df,\n",
        "                             how='left',\n",
        "                             on='ISRC')\n",
        "adjusted_apple_df.info()\n",
        "adjusted_apple_df.head(2)"
      ],
      "execution_count": 0,
      "outputs": []
    },
    {
      "metadata": {
        "id": "NbI4LHIhH0Ai",
        "colab_type": "text"
      },
      "cell_type": "markdown",
      "source": [
        "### Create UPC-level table from ISRC-level Apple availability table"
      ]
    },
    {
      "metadata": {
        "id": "N9KqHDnNv1HD",
        "colab_type": "code",
        "colab": {}
      },
      "cell_type": "code",
      "source": [
        "# Groupby UPC - for each UPC for the selected country_code:\n",
        "# i) have a boolean indicator of whether UPC is available; \n",
        "# ii) number of ISRCs available for that UPC\n",
        "# iii) global_ISRCstreams for UPC\n",
        "\n",
        "international_UPCs_available_df = adjusted_apple_df.groupby('UPC').sum()\n",
        "international_UPCs_available_df.info()\n",
        "\n",
        "international_UPCs_available_df[country_code] = international_UPCs_available_df[country_code].astype('bool')\n",
        "international_UPCs_available_df.rename(columns={country_code:'UPC_available_in{}'.format(country_code),\n",
        "                                                'ISRC_available_in{}'.format(country_code):'num_ISRCs_available_{}'.format(country_code),\n",
        "                                                'total_streams':'global_ISRCstreams_perUPC'},\n",
        "                                       inplace=True)\n",
        "international_UPCs_available_df.info()\n",
        "international_UPCs_available_df.head(2)"
      ],
      "execution_count": 0,
      "outputs": []
    },
    {
      "metadata": {
        "colab_type": "text",
        "id": "SkrsT1ZYC_Zg"
      },
      "cell_type": "markdown",
      "source": [
        "## Rights data"
      ]
    },
    {
      "metadata": {
        "id": "KdTT8YOGTsGd",
        "colab_type": "text"
      },
      "cell_type": "markdown",
      "source": [
        "### Reupload wordy columns from rights data"
      ]
    },
    {
      "metadata": {
        "id": "maPrUvadTrTL",
        "colab_type": "code",
        "colab": {}
      },
      "cell_type": "code",
      "source": [
        "# Reupload wordyinfo (e.g. Artist, Title etc) about each UPC\n",
        "\n",
        "rights_wordyinfo_df = pd.read_csv(path+'rights_wordyinfo.csv',\n",
        "                                  dtype={'UPC': str}).set_index('UPC')\n",
        "\n",
        "rights_wordyinfo_df.info()"
      ],
      "execution_count": 0,
      "outputs": []
    },
    {
      "metadata": {
        "colab_type": "text",
        "id": "Q3kR3cfwC_Zx"
      },
      "cell_type": "markdown",
      "source": [
        "### Reupload wide Rights data of boolean columns"
      ]
    },
    {
      "metadata": {
        "id": "IX0Tny0y2amI",
        "colab_type": "code",
        "colab": {}
      },
      "cell_type": "code",
      "source": [
        "# Reupload & concat all Rights information\n",
        "\n",
        "# Only columns for defined country_code\n",
        "defined_country_cols = []\n",
        "for daterange in ['2015to18','2010to14','before2010']: # this for loop ensures all columns from the three different csvs are included\n",
        "    defined_country_cols += [col for col in pd.read_csv(path+'rights_{}_allcountries.csv'.format(daterange),nrows=5).columns if country_code in col]\n",
        "defined_country_cols = ['UPC'] + list(set(defined_country_cols))\n",
        "\n",
        "# Some year_ranges have columns which are not present for all year_ranges. This is if a country code has changed etc\n",
        "reuploaded_rights_all_countries_df = pd.concat(\n",
        "    [pd.read_csv(path+'rights_2015to18_allcountries.csv',\n",
        "                 dtype={'UPC': str},\n",
        "                 usecols=defined_country_cols),\n",
        "     pd.read_csv(path+'rights_2010to14_allcountries.csv',\n",
        "                 dtype={'UPC': str},\n",
        "                 usecols=defined_country_cols),\n",
        "     pd.read_csv(path+'rights_before2010_allcountries.csv',\n",
        "                 dtype={'UPC': str},\n",
        "                 usecols=defined_country_cols)],\n",
        "    ignore_index=True)\n",
        "reuploaded_rights_all_countries_df.info()\n",
        "\n",
        "# ---------------------------\n",
        "# Ensure only one row for each UPC\n",
        "reuploaded_rights_all_countries_df = reuploaded_rights_all_countries_df.groupby('UPC').sum().astype('bool')\n",
        "\n",
        "reuploaded_rights_all_countries_df.info()\n",
        "reuploaded_rights_all_countries_df.head(2)"
      ],
      "execution_count": 0,
      "outputs": []
    },
    {
      "metadata": {
        "id": "-r3r4hxonvk9",
        "colab_type": "code",
        "colab": {}
      },
      "cell_type": "code",
      "source": [
        "path"
      ],
      "execution_count": 0,
      "outputs": []
    },
    {
      "metadata": {
        "id": "_cdMSMmtnYGf",
        "colab_type": "code",
        "colab": {}
      },
      "cell_type": "code",
      "source": [
        "tester = pd.read_csv(path+'rights_2015to18_allcountries.csv',\n",
        "                 dtype={'UPC': str})#,\n",
        "#                  usecols=defined_country_cols)\n",
        "tester.info()"
      ],
      "execution_count": 0,
      "outputs": []
    },
    {
      "metadata": {
        "id": "BESrBSg7n7Zt",
        "colab_type": "code",
        "colab": {}
      },
      "cell_type": "code",
      "source": [
        "tester['UPC'].sort_values().dropna()"
      ],
      "execution_count": 0,
      "outputs": []
    },
    {
      "metadata": {
        "id": "V7FHVmo1_Bty",
        "colab_type": "text"
      },
      "cell_type": "markdown",
      "source": [
        "# Merged UPC table for selected country"
      ]
    },
    {
      "metadata": {
        "id": "FRhstw_FBv1R",
        "colab_type": "code",
        "colab": {}
      },
      "cell_type": "code",
      "source": [
        "# Using the reuploaded Rights data as the base, merge on Apple availablity information and Rights wordy info\n",
        "# This creates the reference table for the selected country_code\n",
        "\n",
        "# Merge Rights data & derived Apple availability data, for each UPC for selected country_code\n",
        "selected_country_UPCs_df = pd.merge(reuploaded_rights_all_countries_df,\n",
        "                                    international_UPCs_available_df,\n",
        "                                    how='left',\n",
        "                                    left_index=True,\n",
        "                                    right_index=True).fillna({'UPC_available_inGB':False,\n",
        "                                                              'num_ISRCs_available_GB':0,\n",
        "                                                              'global_ISRCstreams_perUPC':0})\n",
        "selected_country_UPCs_df.info()\n",
        "\n",
        "# ------------------------\n",
        "# Merge wordy info\n",
        "selected_country_UPCs_df = pd.merge(selected_country_UPCs_df,\n",
        "                                    rights_wordyinfo_df,\n",
        "                                    how='left',\n",
        "                                    left_index=True,\n",
        "                                    right_index=True)\n",
        "print('\\n',selected_country_UPCs_df.shape,'\\n')\n",
        "\n",
        "# ------------------------\n",
        "# Create propISRCs_onstore for selected country_code\n",
        "selected_country_UPCs_df['propISRCs_onstore_{}'.format(country_code)] = selected_country_UPCs_df['num_ISRCs_available_{}'.format(country_code)] \\\n",
        "                                                                        / selected_country_UPCs_df['Track Count']\n",
        "# Happens if Track Count is empty\n",
        "selected_country_UPCs_df['propISRCs_onstore_{}'.format(country_code)] = selected_country_UPCs_df['propISRCs_onstore_{}'.format(country_code)].fillna(0)\n",
        "\n",
        "# ------------------------\n",
        "# Fill in UPCs which are to go live but are not present in ISRC data to equal: live and full prop_onstore\n",
        "# Set intersection ensures only UPCs which are in the data are included, so makes robust against errors\n",
        "selected_country_UPCs_df.loc[(set(UPCs_to_make_live_df['UPC']) & set(selected_country_UPCs_df.index)),\n",
        "                             'UPC_available_in{}'.format(country_code)] = True\n",
        "selected_country_UPCs_df.loc[(set(UPCs_to_make_live_df['UPC']) & set(selected_country_UPCs_df.index)),\n",
        "                             'propISRCs_onstore_{}'.format(country_code)] = 1\n",
        "\n",
        "selected_country_UPCs_df.info()\n",
        "selected_country_UPCs_df.head(2)"
      ],
      "execution_count": 0,
      "outputs": []
    },
    {
      "metadata": {
        "id": "CLIE_4k9EVzM",
        "colab_type": "text"
      },
      "cell_type": "markdown",
      "source": [
        "# Numbers Matrix"
      ]
    },
    {
      "metadata": {
        "id": "_wkxtMdGEbhu",
        "colab_type": "code",
        "colab": {}
      },
      "cell_type": "code",
      "source": [
        "# Create helpful number matrix for selected country_code\n",
        "\n",
        "# Group by all necessary columns to create matrix figures\n",
        "selected_country_matrix = pd.DataFrame(\n",
        "    selected_country_UPCs_df.groupby(\n",
        "        [country_col_dict['legal'],\n",
        "         country_col_dict['marketing'],\n",
        "         country_col_dict['optin'],\n",
        "         country_col_dict['available'],\n",
        "         'album',\n",
        "         'single',\n",
        "         'duplicate_artist_title',\n",
        "         'release_before_2018',\n",
        "         'binary_status']\n",
        "    ).size()).rename(columns={0:'size'}).reset_index()\n",
        "\n",
        "# Round for nicer figures\n",
        "selected_country_matrix['size'] = selected_country_matrix['size'].apply(lambda x: round(x,-2))\n",
        "\n",
        "# ------------------------\n",
        "# Create 'category' column for legal-marketing-optin-available matrix \n",
        "# country_col_dict defined in 'Define Your Country' at top\n",
        "def create_category(row):    \n",
        "    if not row[country_col_dict['legal']]:\n",
        "        return 'no_legal'\n",
        "    elif (row[country_col_dict['legal']] and not row[country_col_dict['marketing']]):\n",
        "        return 'legal_nomarketing'\n",
        "    elif (row[country_col_dict['legal']] \n",
        "          and row[country_col_dict['marketing']] \n",
        "          and not row[country_col_dict['optin']]):\n",
        "        return 'legal_marketing_no_optin'\n",
        "    elif (row[country_col_dict['legal']] \n",
        "          and row[country_col_dict['marketing']] \n",
        "          and row[country_col_dict['optin']] \n",
        "          and not row[country_col_dict['available']] \n",
        "          and row['release_before_2018']):\n",
        "        return 'legal_marketing_optin_notavailable_before2018'\n",
        "    elif (row[country_col_dict['legal']] \n",
        "          and row[country_col_dict['marketing']] \n",
        "          and row[country_col_dict['optin']] \n",
        "          and not row[country_col_dict['available']] \n",
        "          and not row['release_before_2018']):\n",
        "        return 'legal_marketing_optin_notavailable_2018onwards'\n",
        "    else:\n",
        "        return 'all_in'\n",
        "selected_country_matrix[country_col_dict['category']] = selected_country_matrix.apply(create_category,axis=1)\n",
        "\n",
        "tester_matrix = selected_country_matrix.copy()\n",
        "\n",
        "# ------------------------\n",
        "# Pivot to nice table format\n",
        "selected_country_matrix = pd.pivot_table(selected_country_matrix,\n",
        "                                values='size',\n",
        "                                index=['album','duplicate_artist_title','binary_status'],\n",
        "                                columns=[country_col_dict['category']],\n",
        "                                aggfunc='sum')\n",
        "# Sum each row\n",
        "selected_country_matrix['sum'] = selected_country_matrix.sum(axis=1)\n",
        "\n",
        "# Reorder columns, from all_in to no_legal\n",
        "selected_country_matrix = selected_country_matrix[['all_in',\n",
        "                                 'legal_marketing_optin_notavailable_2018onwards',\n",
        "                                 'legal_marketing_optin_notavailable_before2018',\n",
        "                                 'legal_marketing_no_optin',\n",
        "                                 'legal_nomarketing',\n",
        "                                 'no_legal',\n",
        "                                 'sum']]\n",
        "\n",
        "# Show matrix, and show sum for each column in matrix\n",
        "selected_country_matrix\n",
        "selected_country_matrix.sum()"
      ],
      "execution_count": 0,
      "outputs": []
    },
    {
      "metadata": {
        "id": "UkdChE-AU1kd",
        "colab_type": "text"
      },
      "cell_type": "markdown",
      "source": [
        "# For creating new list of UPCs to make live"
      ]
    },
    {
      "metadata": {
        "id": "91WNDQUxU8ZZ",
        "colab_type": "code",
        "colab": {}
      },
      "cell_type": "code",
      "source": [
        "# Use this to create new csv of UPCs to make live\n",
        "# Be careful you're running this on the correct phase of the data, and the correct country\n",
        "\n",
        "# # JUST A HOLDER QUERY. Does not run in order as relies on first running selected_country_UPCs_df\n",
        "# query_string = \"\"\"\n",
        "# album\n",
        "# & not duplicate_artist_title \n",
        "# & release_before_2018\n",
        "# & {legal}\n",
        "# & {marketing}\n",
        "# & not {optin}\n",
        "# & {prop_onstore} < 0.8\n",
        "# \"\"\".format(**country_col_dict).replace('\\n',' ')\n",
        "# UPCs_to_make_live_df = selected_country_UPCs_df.query(query_string).index.to_frame(index=False)\n",
        "\n",
        "# UPCs_to_make_live_df.to_csv(path+'UPCs_to_make_live.csv',index=False)"
      ],
      "execution_count": 0,
      "outputs": []
    },
    {
      "metadata": {
        "id": "XF1YGZVDdM5P",
        "colab_type": "text"
      },
      "cell_type": "markdown",
      "source": [
        "# Testing"
      ]
    },
    {
      "metadata": {
        "id": "sRvnnxDBWdOs",
        "colab_type": "code",
        "colab": {}
      },
      "cell_type": "code",
      "source": [
        "# # Some tests to ensure process did what I wanted it to do\n",
        "\n",
        "# # initial_tester_matrix = tester_matrix.copy()\n",
        "# # initial_selected_country_UPCs_df = selected_country_UPCs_df.copy()\n",
        "\n",
        "# print('\\n',initial_selected_country_UPCs_df['propISRCs_onstore_GB'].mean(),'\\n')\n",
        "# print('\\n',selected_country_UPCs_df['propISRCs_onstore_GB'].mean(),'\\n')\n",
        "# initial_tester_matrix.query('album & not duplicate_artist_title & release_before_2018 & {legal} & {marketing} & not {optin}'.format(**country_col_dict))\n",
        "# tester_matrix.query('album & not duplicate_artist_title & release_before_2018 & {legal} & {marketing} & not {optin}'.format(**country_col_dict))"
      ],
      "execution_count": 0,
      "outputs": []
    }
  ]
}