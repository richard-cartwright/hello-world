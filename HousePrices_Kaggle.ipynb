{
  "nbformat": 4,
  "nbformat_minor": 0,
  "metadata": {
    "colab": {
      "name": "HousePrices_Kaggle.ipynb",
      "version": "0.3.2",
      "provenance": []
    },
    "kernelspec": {
      "name": "python3",
      "display_name": "Python 3"
    }
  },
  "cells": [
    {
      "metadata": {
        "id": "4v-JIL_FgHqC",
        "colab_type": "code",
        "colab": {}
      },
      "cell_type": "code",
      "source": [
        "# Basic imports\n",
        "import pandas as pd\n",
        "import numpy as np\n",
        "import matplotlib.pyplot as plt\n",
        "import seaborn as sns\n",
        "%matplotlib inline\n",
        "\n",
        "from IPython.core.interactiveshell import InteractiveShell\n",
        "InteractiveShell.ast_node_interactivity = \"all\"\n",
        "\n",
        "plt.style.use('ggplot')\n",
        "sns.set_style('white')"
      ],
      "execution_count": 0,
      "outputs": []
    },
    {
      "metadata": {
        "id": "Zsl2VWpYiWFh",
        "colab_type": "code",
        "colab": {}
      },
      "cell_type": "code",
      "source": [
        "# Code to read csv file into colaboratory:\n",
        "!pip install -U -q PyDrive\n",
        "from pydrive.auth import GoogleAuth\n",
        "from pydrive.drive import GoogleDrive\n",
        "from google.colab import auth\n",
        "from oauth2client.client import GoogleCredentials"
      ],
      "execution_count": 0,
      "outputs": []
    },
    {
      "metadata": {
        "id": "YncZo6sBiZGP",
        "colab_type": "code",
        "colab": {}
      },
      "cell_type": "code",
      "source": [
        "# Authenticate and create the PyDrive client.\n",
        "auth.authenticate_user()\n",
        "gauth = GoogleAuth()\n",
        "gauth.credentials = GoogleCredentials.get_application_default()\n",
        "drive = GoogleDrive(gauth)"
      ],
      "execution_count": 0,
      "outputs": []
    },
    {
      "metadata": {
        "id": "IAFQvE2qiiCR",
        "colab_type": "code",
        "colab": {}
      },
      "cell_type": "code",
      "source": [
        "# Get the file\n",
        "downloaded_train = drive.CreateFile({'id':'1qQNzv_3hPCRECoaLypsOM_hGbF99_pyp'})\n",
        "downloaded_train.GetContentFile('train_HousePrice_Kaggle.csv')\n",
        "\n",
        "downloaded_test = drive.CreateFile({'id':'1be8lYYutY-7xLXz8ROj7YCJLFHpRv9ah'}) \n",
        "downloaded_test.GetContentFile('test_HousePrice_Kaggle.csv')"
      ],
      "execution_count": 0,
      "outputs": []
    },
    {
      "metadata": {
        "id": "AasvZ_OOinCX",
        "colab_type": "code",
        "colab": {}
      },
      "cell_type": "code",
      "source": [
        "# Read file as panda dataframe\n",
        "import pandas as pd\n",
        "df_train = pd.read_csv('train_HousePrice_Kaggle.csv', index_col='Id')\n",
        "df_test = pd.read_csv('test_HousePrice_Kaggle.csv', index_col='Id')"
      ],
      "execution_count": 0,
      "outputs": []
    },
    {
      "metadata": {
        "id": "VeWwqKhNjdWp",
        "colab_type": "code",
        "colab": {}
      },
      "cell_type": "code",
      "source": [
        "# Inspect\n",
        "df_train.head(2)\n",
        "\n",
        "df_test.head(2)\n",
        "\n",
        "set(df_train.columns).symmetric_difference(set(df_test.columns))"
      ],
      "execution_count": 0,
      "outputs": []
    },
    {
      "metadata": {
        "id": "Cq5VsS4BnOrw",
        "colab_type": "code",
        "colab": {}
      },
      "cell_type": "code",
      "source": [
        "# Initial EDA\n",
        "\n",
        "columns = list(df_train.columns)\n",
        "\n",
        "# column_dict = {}\n",
        "# for col in columns:\n",
        "#   column_dict[col] = [df_train[col].isnull().sum(), df_train[col].dtype]"
      ],
      "execution_count": 0,
      "outputs": []
    },
    {
      "metadata": {
        "id": "isfd9SO7twB6",
        "colab_type": "code",
        "colab": {}
      },
      "cell_type": "code",
      "source": [
        "# Corr heatmap for numerical vars\n",
        "\n",
        "plt.figure(figsize=(20,15))\n",
        "sns.heatmap(df_train.corr())"
      ],
      "execution_count": 0,
      "outputs": []
    },
    {
      "metadata": {
        "id": "jvGHNODBueEf",
        "colab_type": "code",
        "colab": {}
      },
      "cell_type": "code",
      "source": [
        "# LinReg using just highest corr numerical vars\n",
        "\n",
        "from sklearn.linear_model import LinearRegression\n",
        "\n",
        "model = LinearRegression(normalize=False)\n",
        "X = df_train[['OverallQual', 'GrLivArea', 'TotalBsmtSF', '1stFlrSF', 'GarageCars', 'GarageArea']]\n",
        "y = df_train.SalePrice\n",
        "model.fit(X, y)\n",
        "\n",
        "from sklearn.metrics import r2_score\n",
        "y_pred = model.predict(X)\n",
        "\n",
        "print('\\n')\n",
        "r2_score(y, y_pred)\n",
        "print('\\n')\n",
        "\n",
        "\n",
        "# LinReg using all numerical vars\n",
        "\n",
        "numerical_features = list(df_train.corr().columns)\n",
        "numerical_features.remove('SalePrice')\n",
        "\n",
        "X = df_train[numerical_features]\n",
        "y = df_train.SalePrice\n",
        "\n",
        "from sklearn.preprocessing import Imputer\n",
        "imp = Imputer()\n",
        "X = imp.fit_transform(X)\n",
        "\n",
        "model = LinearRegression(normalize=False)\n",
        "model.fit(X, y)\n",
        "\n",
        "y_pred = model.predict(X)\n",
        "\n",
        "print('\\n')\n",
        "r2_score(y, y_pred)"
      ],
      "execution_count": 0,
      "outputs": []
    },
    {
      "metadata": {
        "id": "D0NdfRV_SE4P",
        "colab_type": "code",
        "colab": {}
      },
      "cell_type": "code",
      "source": [
        "# EDA on numerical vars\n",
        "\n",
        "sns.distplot(df_train['SalePrice'], kde=True)\n",
        "\n",
        "# for feat in numerical_features:\n",
        "#   plt.figure()\n",
        "#   sns.distplot(df_train[feat].fillna(-1), kde=False)"
      ],
      "execution_count": 0,
      "outputs": []
    },
    {
      "metadata": {
        "id": "7uQpO91bWWeY",
        "colab_type": "code",
        "colab": {}
      },
      "cell_type": "code",
      "source": [
        "# Categorical numerical vars\n",
        "\n",
        "cat_num_vars = ['OverallQual', 'OverallCond', 'BsmtFullBath', 'FullBath', \\\n",
        "                'HalfBath', 'BedroomAbvGr', 'KitchenAbvGr', 'TotRmsAbvGrd', \\\n",
        "               'Fireplaces', 'GarageCars', 'MoSold', 'YrSold']\n",
        "\n",
        "# for var in cat_num_vars:\n",
        "#   df_train[var].value_counts()"
      ],
      "execution_count": 0,
      "outputs": []
    },
    {
      "metadata": {
        "id": "JfogV9OfsNMn",
        "colab_type": "code",
        "colab": {}
      },
      "cell_type": "code",
      "source": [
        "# Categorical vars\n",
        "\n",
        "categorical_features = list(df_train.drop(numerical_features, axis=1).columns)\n",
        "categorical_features.remove('SalePrice')\n",
        "\n",
        "# for feat in categorical_features:\n",
        "#   df_train[feat].value_counts()\n",
        "#   print('\\n')\n",
        "  \n",
        "df_train_cat = pd.get_dummies(df_train[categorical_features], drop_first=True)\n",
        "df_train_cat.info()\n",
        "\n",
        "\n",
        "# Basic prediction using just categoricals & LinReg\n",
        "\n",
        "X = df_train_cat\n",
        "y = df_train.SalePrice\n",
        "\n",
        "model = LinearRegression()\n",
        "model.fit(X, y)\n",
        "\n",
        "y_pred = model.predict(X)\n",
        "\n",
        "print('\\n')\n",
        "r2_score(y, y_pred)"
      ],
      "execution_count": 0,
      "outputs": []
    },
    {
      "metadata": {
        "id": "Jv_90F70xwE5",
        "colab_type": "code",
        "colab": {}
      },
      "cell_type": "code",
      "source": [
        "# Basic prediction using numericals & categoricals using LinReg\n",
        "\n",
        "X = pd.concat([df_train_cat, df_train[numerical_features]], axis=1)\n",
        "y = df_train.SalePrice\n",
        "\n",
        "imp = Imputer()\n",
        "X = imp.fit_transform(X)\n",
        "\n",
        "model = LinearRegression()\n",
        "model.fit(X, y)\n",
        "\n",
        "y_pred = model.predict(X)\n",
        "\n",
        "print('\\n')\n",
        "r2_score(y, y_pred)\n",
        "\n",
        "\n",
        "# Train-test split w/in df_train\n",
        "from sklearn.model_selection import train_test_split\n",
        "X_train, X_test, y_train, y_test = train_test_split(X, y, test_size=0.3, random_state=42)\n",
        "\n",
        "print('\\n')\n",
        "\n",
        "from sklearn.linear_model import LinearRegression\n",
        "from sklearn.ensemble import RandomForestClassifier\n",
        "\n",
        "model = LinearRegression()\n",
        "# model = RandomForestClassifier()\n",
        "model.fit(X_train, y_train)\n",
        "\n",
        "y_pred_train = model.predict(X_train)\n",
        "y_pred_test = model.predict(X_test)\n",
        "\n",
        "print('\\n')\n",
        "print('Train r2:', r2_score(y_train, y_pred_train))\n",
        "\n",
        "print('Test r2:', r2_score(y_test, y_pred_test))"
      ],
      "execution_count": 0,
      "outputs": []
    },
    {
      "metadata": {
        "id": "7ngWpRWQ2HhW",
        "colab_type": "code",
        "colab": {}
      },
      "cell_type": "code",
      "source": [
        "# Initial Dimensionality Reduction & basic r2\n",
        "\n",
        "from sklearn.decomposition import PCA\n",
        "pca = PCA(10)\n",
        "\n",
        "X_train_pca = pca.fit_transform(X_train)\n",
        "X_test_pca = pca.transform(X_test)\n",
        "\n",
        "model = LinearRegression()\n",
        "model.fit(X_train_pca, y_train)\n",
        "\n",
        "y_pred_train = model.predict(X_train_pca)\n",
        "y_pred_test = model.predict(X_test_pca)\n",
        "\n",
        "print('\\n')\n",
        "print('Train r2:', r2_score(y_train, y_pred_train))\n",
        "\n",
        "print('Test r2:', r2_score(y_test, y_pred_test))"
      ],
      "execution_count": 0,
      "outputs": []
    }
  ]
}