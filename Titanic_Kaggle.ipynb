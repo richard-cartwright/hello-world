{
  "nbformat": 4,
  "nbformat_minor": 0,
  "metadata": {
    "colab": {
      "name": "Titanic_Kaggle.ipynb",
      "version": "0.3.2",
      "provenance": [],
      "collapsed_sections": []
    },
    "kernelspec": {
      "name": "python3",
      "display_name": "Python 3"
    }
  },
  "cells": [
    {
      "metadata": {
        "id": "SDRy6LywHA7m",
        "colab_type": "code",
        "colab": {}
      },
      "cell_type": "code",
      "source": [
        "# Basic imports\n",
        "import pandas as pd\n",
        "import numpy as np\n",
        "import matplotlib.pyplot as plt\n",
        "import seaborn as sns\n",
        "%matplotlib inline\n",
        "\n",
        "from IPython.core.interactiveshell import InteractiveShell\n",
        "InteractiveShell.ast_node_interactivity = \"all\"\n",
        "\n",
        "plt.style.use('ggplot')\n",
        "sns.set_style('white')"
      ],
      "execution_count": 0,
      "outputs": []
    },
    {
      "metadata": {
        "id": "_Ft0SiZhLjf6",
        "colab_type": "code",
        "colab": {}
      },
      "cell_type": "code",
      "source": [
        "# Code to read csv file into colaboratory:\n",
        "!pip install -U -q PyDrive\n",
        "from pydrive.auth import GoogleAuth\n",
        "from pydrive.drive import GoogleDrive\n",
        "from google.colab import auth\n",
        "from oauth2client.client import GoogleCredentials"
      ],
      "execution_count": 0,
      "outputs": []
    },
    {
      "metadata": {
        "id": "Q0nuey0wLobZ",
        "colab_type": "code",
        "colab": {}
      },
      "cell_type": "code",
      "source": [
        "# Authenticate and create the PyDrive client.\n",
        "auth.authenticate_user()\n",
        "gauth = GoogleAuth()\n",
        "gauth.credentials = GoogleCredentials.get_application_default()\n",
        "drive = GoogleDrive(gauth)"
      ],
      "execution_count": 0,
      "outputs": []
    },
    {
      "metadata": {
        "id": "XLyrQWo9L4L-",
        "colab_type": "code",
        "colab": {}
      },
      "cell_type": "code",
      "source": [
        "# Get the file\n",
        "downloaded_train = drive.CreateFile({'id':'1tXxl8wCuQyd5ldORKeBCyRy3n-kJ8Xbu'}) \n",
        "downloaded_train.GetContentFile('Kaggle_Titanic_train.csv')\n",
        "\n",
        "downloaded_test = drive.CreateFile({'id':'1EQ0F86NM2QIByUX40A3YgtoqkKMMY40v'}) \n",
        "downloaded_test.GetContentFile('Kaggle_Titanic_test.csv')"
      ],
      "execution_count": 0,
      "outputs": []
    },
    {
      "metadata": {
        "id": "SRWiSa2GN_oW",
        "colab_type": "code",
        "colab": {}
      },
      "cell_type": "code",
      "source": [
        "# Read file as panda dataframe\n",
        "import pandas as pd\n",
        "df_train = pd.read_csv('Kaggle_Titanic_train.csv')\n",
        "df_test = pd.read_csv('Kaggle_Titanic_test.csv')"
      ],
      "execution_count": 0,
      "outputs": []
    },
    {
      "metadata": {
        "id": "S63NRSQ4OHuV",
        "colab_type": "code",
        "colab": {}
      },
      "cell_type": "code",
      "source": [
        "# Inspect\n",
        "df_train.head(2)\n",
        "df_train.info()\n",
        "\n",
        "df_test.head(2)\n",
        "df_test.info()"
      ],
      "execution_count": 0,
      "outputs": []
    },
    {
      "metadata": {
        "id": "bXPRiPvyPfgh",
        "colab_type": "code",
        "colab": {}
      },
      "cell_type": "code",
      "source": [
        "# General EDA\n",
        "print('Prop Survived')\n",
        "df_train.Survived.mean()\n",
        "print('\\n')\n",
        "\n",
        "print('Ticket Class')\n",
        "df_train.Pclass.value_counts()\n",
        "print('\\n')\n",
        "\n",
        "print('Sex')\n",
        "df_train.Sex.value_counts()\n",
        "print('\\n')\n",
        "\n",
        "print('Age Dist')\n",
        "df_train.Age.hist(), plt.show()\n",
        "print('\\n')\n",
        "\n",
        "print('#siblings')\n",
        "df_train.SibSp.value_counts()\n",
        "print('\\n')\n",
        "\n",
        "print('#parents')\n",
        "df_train.Parch.value_counts()\n",
        "print('\\n')\n",
        "\n",
        "print('Fare Dist')\n",
        "df_train.Fare.hist(), plt.show()\n",
        "print('\\n')\n",
        "\n",
        "print('Embarked')\n",
        "df_train.Embarked.value_counts()"
      ],
      "execution_count": 0,
      "outputs": []
    },
    {
      "metadata": {
        "id": "m6IU_NhUZGGZ",
        "colab_type": "code",
        "colab": {}
      },
      "cell_type": "code",
      "source": [
        "# Numerical EDA\n",
        "df_train.describe()"
      ],
      "execution_count": 0,
      "outputs": []
    },
    {
      "metadata": {
        "id": "kfXxO6mFSo_W",
        "colab_type": "code",
        "colab": {}
      },
      "cell_type": "code",
      "source": [
        "# Correlation heatmap\n",
        "sns.heatmap(df_train.corr())"
      ],
      "execution_count": 0,
      "outputs": []
    },
    {
      "metadata": {
        "id": "bgYAgL6g0ubV",
        "colab_type": "code",
        "colab": {}
      },
      "cell_type": "code",
      "source": [
        "# Plot distns of Age vs Sex & Survived\n",
        "facet = sns.FacetGrid(df_train , aspect=4, hue='Survived', row='Sex')\n",
        "facet.map(sns.kdeplot, 'Age', shade=True)\n",
        "facet.add_legend()\n",
        "facet.set(xlim=(0, df_train.Age.max()))"
      ],
      "execution_count": 0,
      "outputs": []
    },
    {
      "metadata": {
        "id": "Q4sJSwUQ4Afv",
        "colab_type": "code",
        "colab": {}
      },
      "cell_type": "code",
      "source": [
        "# Plot distns of Fare vs Survived\n",
        "facet = sns.FacetGrid(df_train , aspect=2, size=4, hue='Survived')\n",
        "facet.map(sns.kdeplot, 'Fare', shade=True)\n",
        "facet.add_legend()\n",
        "facet.set(xlim=(0, df_train.Fare.max()), xscale='log')"
      ],
      "execution_count": 0,
      "outputs": []
    },
    {
      "metadata": {
        "id": "b7RvDrWU5yIf",
        "colab_type": "code",
        "colab": {}
      },
      "cell_type": "code",
      "source": [
        "# Plot distns of Survived vs categoricals\n",
        "facet = sns.FacetGrid(df_train , aspect=1, size=4)\n",
        "facet.map(sns.barplot, 'Embarked', 'Survived')\n",
        "\n",
        "facet = sns.FacetGrid(df_train , aspect=1, size=4)\n",
        "facet.map(sns.barplot, 'Sex', 'Survived')\n",
        "\n",
        "facet = sns.FacetGrid(df_train , aspect=1, size=4)\n",
        "facet.map(sns.barplot, 'Pclass', 'Survived')\n",
        "\n",
        "facet = sns.FacetGrid(df_train , aspect=1, size=4)\n",
        "facet.map(sns.barplot, 'SibSp', 'Survived')\n",
        "\n",
        "facet = sns.FacetGrid(df_train , aspect=1, size=4)\n",
        "facet.map(sns.barplot, 'Parch', 'Survived')"
      ],
      "execution_count": 0,
      "outputs": []
    },
    {
      "metadata": {
        "id": "fj7gc5WrWYaK",
        "colab_type": "code",
        "colab": {}
      },
      "cell_type": "code",
      "source": [
        "# Extract Titles from 'Name' variable\n",
        "df_train['Title'] = df_train.Name.apply(lambda x: x.split(',')[1].split('.')[0].strip())\n",
        "# df_train.Title.value_counts()\n",
        "\n",
        "# Agglomerate Titles to more generic categories\n",
        "Title_Dict = {\"Capt\":\"Officer\",\"Col\":\"Officer\",\"Major\":\"Officer\",\"Jonkheer\":\"Royalty\",\"Don\":\"Royalty\",\"Sir\":\"Royalty\",\\\n",
        "              \"Dr\":\"Officer\",\"Rev\":\"Officer\",\"the Countess\":\"Royalty\",\"Dona\":\"Royalty\",\"Mme\":\"Mrs\",\"Mlle\":\"Miss\",\\\n",
        "              \"Ms\":\"Mrs\",\"Mr\" :\"Mr\",\"Mrs\" :\"Mrs\",\"Miss\" :\"Miss\",\"Master\" :\"Master\",\"Lady\" :\"Royalty\"}\n",
        "\n",
        "df_train['Title'] = df_train.Title.map(Title_Dict)\n",
        "\n",
        "# Drop 'Name' column\n",
        "df_train.drop('Name', axis=1, inplace=True)\n",
        "\n",
        "df_train.head(2)"
      ],
      "execution_count": 0,
      "outputs": []
    },
    {
      "metadata": {
        "id": "CjORVLnZk1OB",
        "colab_type": "code",
        "colab": {}
      },
      "cell_type": "code",
      "source": [
        "# Create family size\n",
        "df_train['FamSize'] = df_train.SibSp + df_train.Parch\n",
        "\n",
        "# Aggregate SibSp & Parch & FamSize vars\n",
        "df_train['SibSp_0'] = df_train.SibSp.map(lambda x: 1 if x==0 else 0)\n",
        "df_train['SibSp_1'] = df_train.SibSp.map(lambda x: 1 if x==1 else 0)\n",
        "df_train['SibSp_2'] = df_train.SibSp.map(lambda x: 1 if x==2 else 0)\n",
        "df_train['SibSp_3+'] = df_train.SibSp.map(lambda x: 1 if x>=3 else 0)\n",
        "\n",
        "\n",
        "df_train['Parch_0'] = df_train.Parch.map(lambda x: 1 if x==0 else 0)\n",
        "df_train['Parch_1'] = df_train.Parch.map(lambda x: 1 if x==1 else 0)\n",
        "df_train['Parch_2'] = df_train.Parch.map(lambda x: 1 if x==2 else 0)\n",
        "df_train['Parch_3+'] = df_train.Parch.map(lambda x: 1 if x>=3 else 0)\n",
        "\n",
        "\n",
        "df_train['FamSize_0'] = df_train.Parch.map(lambda x: 1 if x==0 else 0)\n",
        "df_train['FamSize_1'] = df_train.Parch.map(lambda x: 1 if x==1 else 0)\n",
        "df_train['FamSize_2'] = df_train.Parch.map(lambda x: 1 if x==2 else 0)\n",
        "df_train['FamSize_3+'] = df_train.Parch.map(lambda x: 1 if x>=3 else 0)\n",
        "\n",
        "df_train.drop(['SibSp', 'Parch', 'FamSize'], axis=1, inplace=True)"
      ],
      "execution_count": 0,
      "outputs": []
    },
    {
      "metadata": {
        "id": "67AoDTMfnvEh",
        "colab_type": "code",
        "colab": {}
      },
      "cell_type": "code",
      "source": [
        "# Solicit info from Ticket var\n",
        "\n",
        "# df_train.Ticket.value_counts()\n",
        "\n",
        "def cleanTicket(ticket):\n",
        "    ticket = ticket.replace('.','').replace('/','').lower()\n",
        "    ticket = ticket.split()\n",
        "    ticket = list(filter(lambda t: not t.isdigit(), ticket))\n",
        "    if len(ticket) > 0:\n",
        "        return ticket[0]\n",
        "    else: \n",
        "        return 'XXX'\n",
        "\n",
        "df_train['Ticket_clean'] = df_train.Ticket.map(cleanTicket)\n",
        "\n",
        "df_train['Ticket_clean_a'] = df_train.Ticket_clean.map(lambda x: 1 if x[0]=='a' else 0)\n",
        "df_train['Ticket_clean_c'] = df_train.Ticket_clean.map(lambda x: 1 if x[0]=='c' else 0)\n",
        "df_train['Ticket_clean_f'] = df_train.Ticket_clean.map(lambda x: 1 if x[0]=='f' else 0)\n",
        "df_train['Ticket_clean_line'] = df_train.Ticket_clean.map(lambda x: 1 if x[0]=='l' else 0)\n",
        "df_train['Ticket_clean_p'] = df_train.Ticket_clean.map(lambda x: 1 if x[0]=='p' else 0)\n",
        "df_train['Ticket_clean_sc'] = df_train.Ticket_clean.map(lambda x: 1 if x[:2]=='sc' else 0)\n",
        "df_train['Ticket_clean_so'] = df_train.Ticket_clean.map(lambda x: 1 if x[0]=='s' and x[:2]!='sc' else 0)\n",
        "df_train['Ticket_clean_w'] = df_train.Ticket_clean.map(lambda x: 1 if x[0]=='w' else 0)\n",
        "\n",
        "df_train.drop(['Ticket', 'Ticket_clean'], axis=1, inplace=True)"
      ],
      "execution_count": 0,
      "outputs": []
    },
    {
      "metadata": {
        "id": "lM3PG_TqwXm9",
        "colab_type": "code",
        "colab": {}
      },
      "cell_type": "code",
      "source": [
        "# Solicit info from Cabin var\n",
        "\n",
        "# df_train.Cabin.value_counts()\n",
        "\n",
        "def cleanCabin(cabin):\n",
        "    return cabin[0]\n",
        "\n",
        "\n",
        "df_train.Cabin.fillna('U', inplace=True)\n",
        "df_train['Cabin_clean'] = df_train.Cabin.map(cleanCabin)\n",
        "\n",
        "df_train.drop('Cabin', axis=1, inplace=True)"
      ],
      "execution_count": 0,
      "outputs": []
    },
    {
      "metadata": {
        "id": "oQT9N-tN9Rd3",
        "colab_type": "code",
        "colab": {}
      },
      "cell_type": "code",
      "source": [
        "# Covert categoricals into dummies\n",
        "df_train_cat = pd.get_dummies(df_train, columns=['Sex', 'Pclass', 'Embarked', 'Title', 'Cabin_clean'], drop_first=True)\\\n",
        "                .set_index('PassengerId')\n",
        "\n",
        "df_train_cat.info()"
      ],
      "execution_count": 0,
      "outputs": []
    },
    {
      "metadata": {
        "id": "JlTTS-ypXl_F",
        "colab_type": "code",
        "colab": {}
      },
      "cell_type": "code",
      "source": [
        "# Train-test split w/in df_train\n",
        "from sklearn.model_selection import train_test_split\n",
        "\n",
        "# Drop difficult vars for first model\n",
        "X_train, X_test, y_train, y_test = train_test_split(df_train_cat.drop('Survived', axis=1), df_train.Survived, \\\n",
        "                                                    test_size=0.3, random_state=42)"
      ],
      "execution_count": 0,
      "outputs": []
    },
    {
      "metadata": {
        "id": "HsfPAirPevFf",
        "colab_type": "code",
        "colab": {}
      },
      "cell_type": "code",
      "source": [
        "# First pipeline w/ LogReg\n",
        "from sklearn.pipeline import make_pipeline\n",
        "from sklearn.preprocessing import Imputer\n",
        "from sklearn.linear_model import LogisticRegression\n",
        "from sklearn.tree import DecisionTreeClassifier\n",
        "from sklearn.ensemble import RandomForestClassifier\n",
        "\n",
        "pipeline = make_pipeline(Imputer(), LogisticRegression())\n",
        "pipeline.fit(X_train, y_train)\n",
        "y_pred = pipeline.predict(X_test)\n",
        "\n",
        "# Test accuracy of basic LogReg model\n",
        "from sklearn.metrics import accuracy_score\n",
        "print('\\n')\n",
        "print('Accuracy score: ', accuracy_score(y_test, y_pred))"
      ],
      "execution_count": 0,
      "outputs": []
    },
    {
      "metadata": {
        "id": "8kNGHJ-ypBkG",
        "colab_type": "code",
        "colab": {}
      },
      "cell_type": "code",
      "source": [
        "# Decision Tree for feature importances\n",
        "imp = Imputer()\n",
        "X_train = imp.fit_transform(X_train)\n",
        "X_test = imp.fit_transform(X_test)\n",
        "# tree = DecisionTreeClassifier()\n",
        "tree = RandomForestClassifier()\n",
        "tree.fit(X_train, y_train)\n",
        "y_pred = tree.predict(X_test)\n",
        "print('\\n')\n",
        "print('Accuracy score: ', accuracy_score(y_test, y_pred))\n",
        "\n",
        "from sklearn.metrics import confusion_matrix\n",
        "print('Confusion matrix:')\n",
        "confusion_matrix(y_test, y_pred)\n",
        "print('\\n')\n",
        "\n",
        "# Feature Importances\n",
        "feat_import = pd.Series(data=tree.feature_importances_, index=df_train_cat.drop('Survived', axis=1).columns)\\\n",
        "                  .sort_values(ascending=True)\n",
        "plt.figure()\n",
        "feat_import.plot.barh()\n",
        "plt.xlabel('Importance')\n",
        "plt.ylabel('Feature')\n",
        "plt.title('Feature Importance from DecisionTreeClf')"
      ],
      "execution_count": 0,
      "outputs": []
    },
    {
      "metadata": {
        "id": "PK1Jkih0I34L",
        "colab_type": "code",
        "colab": {}
      },
      "cell_type": "code",
      "source": [
        "# Create submission data\n",
        "\n",
        "df_test = pd.read_csv('Kaggle_Titanic_test.csv')\n",
        "\n",
        "# Extract Titles from 'Name' variable\n",
        "df_test['Title'] = df_test.Name.apply(lambda x: x.split(',')[1].split('.')[0].strip())\n",
        "\n",
        "# Agglomerate Titles to more generic categories\n",
        "Title_Dict = {\"Capt\":\"Officer\",\"Col\":\"Officer\",\"Major\":\"Officer\",\"Jonkheer\":\"Royalty\",\"Don\":\"Royalty\",\"Sir\":\"Royalty\",\\\n",
        "              \"Dr\":\"Officer\",\"Rev\":\"Officer\",\"the Countess\":\"Royalty\",\"Dona\":\"Royalty\",\"Mme\":\"Mrs\",\"Mlle\":\"Miss\",\\\n",
        "              \"Ms\":\"Mrs\",\"Mr\" :\"Mr\",\"Mrs\" :\"Mrs\",\"Miss\" :\"Miss\",\"Master\" :\"Master\",\"Lady\" :\"Royalty\"}\n",
        "\n",
        "df_test['Title'] = df_test.Title.map(Title_Dict)\n",
        "\n",
        "# Drop 'Name' column\n",
        "df_test.drop('Name', axis=1, inplace=True)\n",
        "\n",
        "\n",
        "# Create family size\n",
        "df_test['FamSize'] = df_test.SibSp + df_test.Parch\n",
        "\n",
        "# Aggregate SibSp & Parch & FamSize vars\n",
        "df_test['SibSp_0'] = df_test.SibSp.map(lambda x: 1 if x==0 else 0)\n",
        "df_test['SibSp_1'] = df_test.SibSp.map(lambda x: 1 if x==1 else 0)\n",
        "df_test['SibSp_2'] = df_test.SibSp.map(lambda x: 1 if x==2 else 0)\n",
        "df_test['SibSp_3+'] = df_test.SibSp.map(lambda x: 1 if x>=3 else 0)\n",
        "\n",
        "\n",
        "df_test['Parch_0'] = df_test.Parch.map(lambda x: 1 if x==0 else 0)\n",
        "df_test['Parch_1'] = df_test.Parch.map(lambda x: 1 if x==1 else 0)\n",
        "df_test['Parch_2'] = df_test.Parch.map(lambda x: 1 if x==2 else 0)\n",
        "df_test['Parch_3+'] = df_test.Parch.map(lambda x: 1 if x>=3 else 0)\n",
        "\n",
        "\n",
        "df_test['FamSize_0'] = df_test.Parch.map(lambda x: 1 if x==0 else 0)\n",
        "df_test['FamSize_1'] = df_test.Parch.map(lambda x: 1 if x==1 else 0)\n",
        "df_test['FamSize_2'] = df_test.Parch.map(lambda x: 1 if x==2 else 0)\n",
        "df_test['FamSize_3+'] = df_test.Parch.map(lambda x: 1 if x>=3 else 0)\n",
        "\n",
        "df_test.drop(['SibSp', 'Parch', 'FamSize'], axis=1, inplace=True)\n",
        "\n",
        "\n",
        "# Solicit info from Ticket var\n",
        "def cleanTicket(ticket):\n",
        "    ticket = ticket.replace('.','').replace('/','').lower()\n",
        "    ticket = ticket.split()\n",
        "    ticket = list(filter(lambda t: not t.isdigit(), ticket))\n",
        "    if len(ticket) > 0:\n",
        "        return ticket[0]\n",
        "    else: \n",
        "        return 'XXX'\n",
        "\n",
        "df_test['Ticket_clean'] = df_test.Ticket.map(cleanTicket)\n",
        "\n",
        "df_test['Ticket_clean_a'] = df_test.Ticket_clean.map(lambda x: 1 if x[0]=='a' else 0)\n",
        "df_test['Ticket_clean_c'] = df_test.Ticket_clean.map(lambda x: 1 if x[0]=='c' else 0)\n",
        "df_test['Ticket_clean_f'] = df_test.Ticket_clean.map(lambda x: 1 if x[0]=='f' else 0)\n",
        "df_test['Ticket_clean_line'] = df_test.Ticket_clean.map(lambda x: 1 if x[0]=='l' else 0)\n",
        "df_test['Ticket_clean_p'] = df_test.Ticket_clean.map(lambda x: 1 if x[0]=='p' else 0)\n",
        "df_test['Ticket_clean_sc'] = df_test.Ticket_clean.map(lambda x: 1 if x[:2]=='sc' else 0)\n",
        "df_test['Ticket_clean_so'] = df_test.Ticket_clean.map(lambda x: 1 if x[0]=='s' and x[:2]!='sc' else 0)\n",
        "df_test['Ticket_clean_w'] = df_test.Ticket_clean.map(lambda x: 1 if x[0]=='w' else 0)\n",
        "\n",
        "df_test.drop(['Ticket', 'Ticket_clean'], axis=1, inplace=True)\n",
        "\n",
        "\n",
        "# Solicit info from Cabin var\n",
        "def cleanCabin(cabin):\n",
        "    return cabin[0]\n",
        "\n",
        "\n",
        "df_test.Cabin.fillna('U', inplace=True)\n",
        "df_test['Cabin_clean'] = df_test.Cabin.map(cleanCabin)\n",
        "\n",
        "df_test.drop('Cabin', axis=1, inplace=True)\n",
        "\n",
        "\n",
        "# Covert categoricals into dummies\n",
        "df_test_cat = pd.get_dummies(df_test, columns=['Sex', 'Pclass', 'Embarked', 'Title', 'Cabin_clean'], drop_first=True)\\\n",
        "                .set_index('PassengerId')\n",
        "\n",
        "\n",
        "# Make predictions for submission\n",
        "imp = Imputer()\n",
        "X_model = imp.fit_transform(df_train_cat.drop(['Survived', 'Cabin_clean_T'], axis=1))\n",
        "y_model = df_train.Survived\n",
        "X_submission = imp.fit_transform(df_test_cat)\n",
        "# tree = DecisionTreeClassifier()\n",
        "tree = RandomForestClassifier()\n",
        "tree.fit(X_model, y_model)\n",
        "y_submission = tree.predict(X_submission)"
      ],
      "execution_count": 0,
      "outputs": []
    },
    {
      "metadata": {
        "id": "sFfvledUEUhc",
        "colab_type": "code",
        "colab": {}
      },
      "cell_type": "code",
      "source": [
        "df_submission = pd.DataFrame({'PassengerId': df_test_cat.index, 'Survived': y_submission})\n",
        "df_submission.to_csv('titanic_submission.csv', index = False)\n",
        "\n",
        "from google.colab import files\n",
        "files.download('titanic_submission.csv')"
      ],
      "execution_count": 0,
      "outputs": []
    }
  ]
}