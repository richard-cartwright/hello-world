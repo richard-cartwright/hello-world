{
  "nbformat": 4,
  "nbformat_minor": 0,
  "metadata": {
    "colab": {
      "name": "worldcup_goinghome.ipynb",
      "version": "0.3.2",
      "views": {},
      "default_view": {},
      "provenance": []
    },
    "kernelspec": {
      "name": "python3",
      "display_name": "Python 3"
    }
  },
  "cells": [
    {
      "metadata": {
        "id": "wzxscQPTmmE8",
        "colab_type": "code",
        "colab": {
          "autoexec": {
            "startup": false,
            "wait_interval": 0
          }
        }
      },
      "cell_type": "code",
      "source": [
        "# Basic imports\n",
        "\n",
        "import pandas as pd\n",
        "import numpy as np\n",
        "import scipy.signal as sp\n",
        "import matplotlib.pyplot as plt\n",
        "import seaborn as sns\n",
        "%matplotlib inline\n",
        "\n",
        "from IPython.core.interactiveshell import InteractiveShell\n",
        "InteractiveShell.ast_node_interactivity = \"all\"\n",
        "\n",
        "plt.style.use('ggplot')\n",
        "sns.set_style('white')"
      ],
      "execution_count": 0,
      "outputs": []
    },
    {
      "metadata": {
        "id": "iwsFnLkznU89",
        "colab_type": "code",
        "colab": {
          "autoexec": {
            "startup": false,
            "wait_interval": 0
          }
        }
      },
      "cell_type": "code",
      "source": [
        "# Necessary imports for connecting with Google Drive\n",
        "!pip install -U -q PyDrive\n",
        "from pydrive.auth import GoogleAuth\n",
        "from pydrive.drive import GoogleDrive\n",
        "from google.colab import auth\n",
        "from oauth2client.client import GoogleCredentials\n",
        "\n",
        "# Create connection with Google Drive & authenticate\n",
        "auth.authenticate_user()\n",
        "gauth = GoogleAuth()\n",
        "gauth.credentials = GoogleCredentials.get_application_default()\n",
        "drive = GoogleDrive(gauth)"
      ],
      "execution_count": 0,
      "outputs": []
    },
    {
      "metadata": {
        "id": "IY7WDIhvnVqa",
        "colab_type": "code",
        "colab": {
          "autoexec": {
            "startup": false,
            "wait_interval": 0
          }
        }
      },
      "cell_type": "code",
      "source": [
        "# Load data into environment\n",
        "days_data = drive.CreateFile({'id':'17gACLzcbGFy4ystQ96eRFI1eHycrXWp0'})\n",
        "days_data.GetContentFile('data_days')\n",
        "\n",
        "eighteen_data = drive.CreateFile({'id':'1wcb5ZyF94r464_ulr01bdzB1NXyj2cCl'})\n",
        "eighteen_data.GetContentFile('data_18th')\n",
        "\n",
        "twentyeight_data = drive.CreateFile({'id':'1DQXl2uwHvDjEU0G5-yaSOi-lWz9l5aUc'})\n",
        "twentyeight_data.GetContentFile('data_28th')"
      ],
      "execution_count": 0,
      "outputs": []
    },
    {
      "metadata": {
        "id": "87TWDL7KXnO-",
        "colab_type": "code",
        "colab": {
          "autoexec": {
            "startup": false,
            "wait_interval": 0
          }
        }
      },
      "cell_type": "code",
      "source": [
        "# DAY OF WEEK: loads and cleans the days_df for visualising the different travel patterns for each day of week\n",
        "\n",
        "# Read csv as pandas dataframe\n",
        "days_df = pd.read_csv('data_days')\n",
        "\n",
        "# Replace SQL's day of week number (0 is Sunday, 6 is Saturday) with the actual day name\n",
        "days_dict = {\n",
        "    0:'Sunday',\n",
        "    1:'Monday',\n",
        "    2:'Tuesday',\n",
        "    3:'Wednesday',\n",
        "    4:'Thursday',\n",
        "    5:'Friday',\n",
        "    6:'Saturday'\n",
        "}\n",
        "days_df.replace({'start_day':days_dict}, inplace=True)\n",
        "\n",
        "# Create datetime because it produces nice plots\n",
        "# Note: the date itself is unimportant and added in for ease\n",
        "days_df['time'] = days_df.apply(lambda row: pd.Timestamp('2018-01-01 {}:{}'.format(row.start_hour, row.start_minute)), axis=1)\n",
        "\n",
        "# Smooth the minute-by-minute data to cut noise\n",
        "days_df['minutely_count'] = sp.savgol_filter(days_df.twentyeight_count, 41, 3)\n",
        "\n",
        "# Make the data easier to plot\n",
        "days_df = days_df.pivot(index='time', columns='start_day', values='minutely_count')[['Monday', 'Tuesday', 'Wednesday', 'Thursday', 'Friday', 'Saturday', 'Sunday']]"
      ],
      "execution_count": 0,
      "outputs": []
    },
    {
      "metadata": {
        "id": "6UFceIJmY950",
        "colab_type": "code",
        "colab": {
          "autoexec": {
            "startup": false,
            "wait_interval": 0
          }
        }
      },
      "cell_type": "code",
      "source": [
        "# MATCH DAYS: loads and cleans the days_df for visualising the different travel patterns for each day of week\n",
        "\n",
        "# Read csv as pandas dataframe\n",
        "eighteen_df = pd.read_csv('data_18th')\n",
        "twentyeight_df = pd.read_csv('data_28th')\n",
        "\n",
        "# Set parameters for the savgol_filter smoothing\n",
        "windows = 11\n",
        "extra = 120\n",
        "polynomial = 3\n",
        "\n",
        "# Create datetime and set as index because it produces nice plots\n",
        "# Note: the date itself is unimportant and added in for ease\n",
        "eighteen_df['time'] = eighteen_df.apply(lambda row: pd.Timestamp('2018-01-01 {}:{}'.format(row.start_hour, row.start_minute)), axis=1)\n",
        "eighteen_df.set_index('time', inplace=True)\n",
        "twentyeight_df['time'] = twentyeight_df.apply(lambda row: pd.Timestamp('2018-01-01 {}:{}'.format(row.start_hour, row.start_minute)), axis=1)\n",
        "twentyeight_df.set_index('time', inplace=True)\n",
        "\n",
        "# Smooth the minute-by-minute data to cut noise\n",
        "eighteen_df['match_day'] = sp.savgol_filter(eighteen_df.eighteen_count, windows, polynomial)\n",
        "twentyeight_df['match_day'] = sp.savgol_filter(twentyeight_df.twentyeight_count, windows, polynomial)\n",
        "\n",
        "# Smooth the minute-by-minute data to cut noise\n",
        "# (apply more smoothing here because it makes the visual comparison easier)\n",
        "eighteen_df['average_day'] = sp.savgol_filter(eighteen_df[['twentyfive_count','eleven_count']].mean(axis=1), windows+extra, polynomial)\n",
        "twentyeight_df['average_day'] = sp.savgol_filter(twentyeight_df[['twentyone_count','fourteen_count']].mean(axis=1), windows+extra, polynomial)"
      ],
      "execution_count": 0,
      "outputs": []
    },
    {
      "metadata": {
        "id": "OxuJPDuTbXho",
        "colab_type": "code",
        "colab": {
          "autoexec": {
            "startup": false,
            "wait_interval": 0
          }
        }
      },
      "cell_type": "code",
      "source": [
        "# DAY OF WEEK: plot shows different travel patterns for each day of week\n",
        "\n",
        "# Note: the date itself is unimportant and added in for ease\n",
        "days_df.loc['2018-01-01 01:10:00':'2018-01-01 22:50:00'].plot(figsize = (10,5),\n",
        "                                                              fontsize=15,\n",
        "                                                              linewidth = 2,\n",
        "                                                              legend=False)\n",
        "\n",
        "# Add legend, axis labels, title\n",
        "plt.legend(['Monday', 'Tuesday', 'Wednesday', 'Thursday', 'Friday', 'Saturday', 'Sunday'],fontsize=15)\n",
        "plt.xlabel('Time', fontsize=15)\n",
        "plt.ylabel('Number of London commuters \\n starting their journey home', fontsize=15)\n",
        "plt.title('Home commutes on an average June day \\n separated by day of week', fontsize=18)\n",
        "\n",
        "# Add text & arrow annotation\n",
        "plt.annotate('Different days have \\n different travel patterns', xytext=(0.5,0.7), xy=(0.74,0.64), \n",
        "             arrowprops=dict(facecolor='black', shrink=0.05), \n",
        "             fontsize=10, xycoords='figure fraction', fontname='Helvetica')"
      ],
      "execution_count": 0,
      "outputs": []
    },
    {
      "metadata": {
        "id": "Tr1qSmOcaDa1",
        "colab_type": "code",
        "colab": {
          "autoexec": {
            "startup": false,
            "wait_interval": 0
          }
        }
      },
      "cell_type": "code",
      "source": [
        "# TUNISIA: plot match day vs average day for the Tunisia game\n",
        "\n",
        "# Plot just between relevant hours of 18:00 and 22:00\n",
        "# Note: the date itself is unimportant and added in for ease\n",
        "eighteen_df[['match_day', 'average_day']].loc['2018-01-01 18:00':'2018-01-01 22:00'].plot(figsize = (10,5), \n",
        "                                                                                          fontsize=15,\n",
        "                                                                                          linewidth = 3,\n",
        "                                                                                          legend=False)\n",
        "\n",
        "# Add legend, axis labels, title\n",
        "plt.legend(['Tunisia Match', 'Average Monday in June'],fontsize=15)\n",
        "plt.xlabel('Time', fontsize=15)\n",
        "plt.ylabel('Number of London commuters \\n starting their journey home', fontsize=15)\n",
        "plt.title('Home commutes on the day of the England-Tunisa match', fontsize=18)\n",
        "\n",
        "# Add vertical lines to signify match start and end\n",
        "plt.axvline('2018-01-01 19:00', alpha=0.3, linestyle='dashed')\n",
        "plt.axvline('2018-01-01 20:45', alpha=0.3, linestyle='dashed')\n",
        "\n",
        "# Add text & arrow annotations\n",
        "plt.annotate('It begins!', xytext=(0.24,0.2), xy=(0.355,0.125), \n",
        "             arrowprops=dict(facecolor='black', shrink=0.05), \n",
        "             fontsize=13, xycoords='figure fraction', fontname='Helvetica')\n",
        "plt.annotate('Final whistle', xytext=(0.5,0.17), xy=(0.695,0.125), \n",
        "             arrowprops=dict(facecolor='black', shrink=0.05), \n",
        "             fontsize=13, xycoords='figure fraction', fontname='Helvetica')\n",
        "plt.annotate('Supporters stay near work', xytext=(0.3,0.75), xy=(0.25,0.78), \n",
        "             arrowprops=dict(facecolor='black', shrink=0.05), \n",
        "             fontsize=10, xycoords='figure fraction', fontname='Helvetica')\n",
        "plt.annotate('Supporters flood the streets', xytext=(0.72,0.4), xy=(0.795,0.33), \n",
        "             arrowprops=dict(facecolor='black', shrink=0.05), \n",
        "             fontsize=10, xycoords='figure fraction', fontname='Helvetica')"
      ],
      "execution_count": 0,
      "outputs": []
    },
    {
      "metadata": {
        "id": "udSRwOvbo9p1",
        "colab_type": "code",
        "colab": {
          "autoexec": {
            "startup": false,
            "wait_interval": 0
          }
        }
      },
      "cell_type": "code",
      "source": [
        "# BELGIUM: plot match day vs average day for the Belgium game\n",
        "# Same code as for Tunisia above - couldn't be bothered to write a function for just two calls\n",
        "\n",
        "# Plot just between relevant hours of 18:00 and 22:00\n",
        "# Note: the date itself is unimportant and added in for ease\n",
        "twentyeight_df[['match_day', 'average_day']].loc['2018-01-01 18:00':'2018-01-01 22:00'].plot(figsize = (10,5), \n",
        "                                                                                          fontsize=15,\n",
        "                                                                                          linewidth = 3,\n",
        "                                                                                          legend=False)\n",
        "\n",
        "# Add legend, axis labels, title\n",
        "plt.legend(['Belgium Match', 'Average Thursday in June'],fontsize=15)\n",
        "plt.xlabel('Time', fontsize=15)\n",
        "plt.ylabel('Number of London commuters \\n starting their journey home', fontsize=15)\n",
        "plt.title('Home commutes on the day of the England-Belgium match', fontsize=18)\n",
        "\n",
        "# Add vertical lines to signify match start and end\n",
        "plt.axvline('2018-01-01 19:00', alpha=0.3, linestyle='dashed')\n",
        "plt.axvline('2018-01-01 20:45', alpha=0.3, linestyle='dashed')\n",
        "\n",
        "# Add text & arrow annotations\n",
        "plt.annotate('Kick-off', xytext=(0.26,0.2), xy=(0.36,0.125), \n",
        "             arrowprops=dict(facecolor='black', shrink=0.05), \n",
        "             fontsize=13, xycoords='figure fraction', fontname='Helvetica')\n",
        "plt.annotate('Final whistle', xytext=(0.5,0.15), xy=(0.71,0.125), \n",
        "             arrowprops=dict(facecolor='black', shrink=0.05), \n",
        "             fontsize=13, xycoords='figure fraction', fontname='Helvetica')\n",
        "plt.annotate('More supporters this time \\n who congregate earlier', xytext=(0.27,0.8), xy=(0.21,0.83), \n",
        "             arrowprops=dict(facecolor='black', shrink=0.05), \n",
        "             fontsize=10, xycoords='figure fraction', fontname='Helvetica')\n",
        "plt.annotate('Gap is bigger than the Tunisia \\n game #cominghome', xytext=(0.43,0.47), xy=(0.5,0.28), \n",
        "             arrowprops=dict(facecolor='black', shrink=0.05), \n",
        "             fontsize=10, xycoords='figure fraction', fontname='Helvetica')\n",
        "plt.annotate('More supporters flood \\n more streets', xytext=(0.72,0.48), xy=(0.795,0.41), \n",
        "             arrowprops=dict(facecolor='black', shrink=0.05), \n",
        "             fontsize=10, xycoords='figure fraction', fontname='Helvetica')"
      ],
      "execution_count": 0,
      "outputs": []
    }
  ]
}